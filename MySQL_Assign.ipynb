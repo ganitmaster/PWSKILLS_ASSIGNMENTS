{
 "cells": [
  {
   "cell_type": "markdown",
   "metadata": {
    "id": "WEXCR44VlZE1"
   },
   "source": [
    "Q1. What is a database? Differentiate between SQL and NoSQL databases."
   ]
  },
  {
   "cell_type": "markdown",
   "metadata": {
    "id": "oGIr683llZBc"
   },
   "source": [
    "Ans: A database is an organized collection of data, typically stored and accessed electronically. It allows users to store, manage, and retrieve data in a structured format. Databases are used in various applications, from small-scale applications to large-scale enterprise systems. The data in a database is usually organized into tables, rows, and columns, making it easier to manage and query.\n",
    "\n",
    "SQL vs. NoSQL Databases:\n",
    "SQL:\n",
    "\n",
    "Relational (tables with rows/columns)\n",
    "\n",
    "Fixed schema\n",
    "\n",
    "ACID transactions (strong consistency)\n",
    "\n",
    "Vertically scalable\n",
    "\n",
    "Examples: MySQL, PostgreSQL\n",
    "\n",
    "NoSQL:\n",
    "\n",
    "Non-relational (documents, key-value, graphs)\n",
    "\n",
    "Flexible schema\n",
    "\n",
    "BASE model (eventual consistency)\n",
    "\n",
    "Horizontally scalable\n",
    "\n",
    "Examples: MongoDB, Cassandra\n"
   ]
  },
  {
   "cell_type": "markdown",
   "metadata": {
    "id": "UpBksdDOlZAG"
   },
   "source": [
    "Q2. What is DDL? Explain why CREATE, DROP, ALTER, and TRUNCATE are used with an example.\n"
   ]
  },
  {
   "cell_type": "markdown",
   "metadata": {
    "id": "KPmWqEe7lY-J"
   },
   "source": [
    "Ans: DDL (Data Definition Language) is a subset of SQL used to define and manage the structure of database objects such as tables, views, indexes, and schemas. DDL commands modify the database schema but do not affect the data stored in the database.\n",
    "\n",
    "CREATE: Defines new objects (e.g., tables).\n",
    "\n",
    "Ex.- CREATE TABLE Students (\n",
    "    StudentID INT PRIMARY KEY,\n",
    "    Name VARCHAR(100),\n",
    "    Age INT\n",
    ");\n",
    "\n",
    "DROP: Deletes objects (e.g., tables or columns).\n",
    "\n",
    "Ex.- DROP TABLE Students;\n",
    "\n",
    "ALTER: Modifies existing objects (e.g., adds/removes columns).\n",
    "\n",
    "Ex.- ALTER TABLE Students ADD COLUMN Email VARCHAR(100);\n",
    "\n",
    "TRUNCATE: Removes all data from a table but retains its structure.\n",
    "\n",
    "Ex.- TRUNCATE TABLE Students;"
   ]
  },
  {
   "cell_type": "markdown",
   "metadata": {
    "id": "o7ET9RexlY8M"
   },
   "source": [
    "Q3. What is DML? Explain INSERT, UPDATE, and DELETE with an example.\n",
    "\n"
   ]
  },
  {
   "cell_type": "markdown",
   "metadata": {
    "id": "G_x-Aja6lY2P"
   },
   "source": [
    "Ans: DML (Data Manipulation Language) is a subset of SQL used to manipulate the data within database objects (like tables). DML commands allow you to insert, update, delete, and retrieve data. Unlike DDL (Data Definition Language), which deals with the structure of the database, DML is concerned with the actual data stored in the tables.\n",
    "\n",
    "The most common DML operations are:\n",
    "\n",
    "INSERT: Add new records to a table.\n",
    "\n",
    "Ex.- INSERT INTO Students (StudentID, Name, Age, Email)\n",
    "VALUES (1, 'Alice', 20, 'alice@example.com');\n",
    "\n",
    "UPDATE: Modify existing records.\n",
    "\n",
    "Ex.- UPDATE Students\n",
    "SET Age = 21\n",
    "WHERE StudentID = 1;\n",
    "\n",
    "DELETE: Remove records from a table.\n",
    "\n",
    "Ex.- DELETE FROM Students\n",
    "WHERE StudentID = 1;"
   ]
  },
  {
   "cell_type": "markdown",
   "metadata": {
    "id": "0Ap_ph2mlYiu"
   },
   "source": [
    "Q4. What is DQL? Explain SELECT with an example.\n"
   ]
  },
  {
   "cell_type": "markdown",
   "metadata": {
    "id": "mKUWHI2ilYfa"
   },
   "source": [
    "Ans: DQL (Data Query Language) is a subset of SQL used to query and retrieve data from a database. The main purpose of DQL is to perform read-only operations on the data. The most commonly used DQL command is SELECT, which is used to fetch data from one or more tables in a database.\n",
    "\n",
    "SELECT - The SELECT statement is used to retrieve data from a database. You can select specific columns, filter data using WHERE, sort data using ORDER BY, and perform other operations such as joining multiple tables.\n",
    "\n",
    "SELECT column1, column2, ...\n",
    "FROM table_name\n",
    "WHERE condition\n",
    "ORDER BY column\n",
    "LIMIT number;"
   ]
  },
  {
   "cell_type": "markdown",
   "metadata": {
    "id": "zWaVfpxmlp8r"
   },
   "source": [
    "Q5. Explain Primary Key and Foreign Key.\n"
   ]
  },
  {
   "cell_type": "markdown",
   "metadata": {
    "id": "Qt_fSI8Alsg6"
   },
   "source": [
    "Ans: Primary Key\n",
    "A Primary Key is a field (or a combination of fields) in a table that uniquely identifies each record in that table. The primary key ensures that each row in the table is unique and can be accessed easily. It cannot have NULL values.\n",
    "\n",
    "Key Characteristics of Primary Key:\n",
    "\n",
    "Uniqueness: Each value in the primary key column(s) must be unique across the table.\n",
    "\n",
    "Non-Null: A primary key column cannot have a NULL value.\n",
    "\n",
    "Single Record: Each table can have only one primary key.\n",
    "\n",
    "Indexing: Most database systems automatically create an index on the primary key column(s) to speed up queries.\n",
    "\n",
    "Foreign Key\n",
    "A Foreign Key is a field (or a combination of fields) in one table that refers to the Primary Key in another table. The foreign key establishes a relationship between the two tables, allowing for referential integrity. It ensures that the values in the foreign key column correspond to valid records in the referenced table.\n",
    "\n",
    "Key Characteristics of Foreign Key:\n",
    "\n",
    "Referential Integrity: The foreign key ensures that every value in the column corresponds to a valid value in the referenced primary key column.\n",
    "\n",
    "NULL Values Allowed: A foreign key can contain NULL values, meaning the relationship is optional.\n",
    "\n",
    "Multiple Foreign Keys: A table can have multiple foreign keys referencing different tables."
   ]
  },
  {
   "cell_type": "markdown",
   "metadata": {
    "id": "s-oPLaDXltcB"
   },
   "source": [
    "Q6. Write a python code to connect MySQL to python. Explain the cursor() and execute() method.\n"
   ]
  },
  {
   "cell_type": "markdown",
   "metadata": {
    "id": "PRyxMAhol7kY"
   },
   "source": [
    "Ans: cursor() Method:\n",
    "Purpose: The cursor() method is used to create a cursor object. The cursor allows you to interact with the database by executing SQL queries and fetching results.\n",
    "\n",
    "execute() Method:\n",
    "Purpose: The execute() method is used to execute a single SQL query. You can pass SQL queries (such as SELECT, INSERT, UPDATE, etc.) as strings to this method."
   ]
  },
  {
   "cell_type": "code",
   "execution_count": 2,
   "metadata": {
    "colab": {
     "base_uri": "https://localhost:8080/"
    },
    "id": "RoAUa4bGruLq",
    "outputId": "d837eac6-c5c1-4ce1-bb65-c1d910bed859"
   },
   "outputs": [
    {
     "name": "stdout",
     "output_type": "stream",
     "text": [
      "Requirement already satisfied: mysql-connector-python==8.0.33 in /usr/local/lib/python3.10/dist-packages (8.0.33)\n",
      "Requirement already satisfied: protobuf<=3.20.3,>=3.11.0 in /usr/local/lib/python3.10/dist-packages (from mysql-connector-python==8.0.33) (3.20.3)\n"
     ]
    }
   ],
   "source": [
    "!pip install mysql-connector-python==8.0.33"
   ]
  },
  {
   "cell_type": "code",
   "execution_count": 3,
   "metadata": {
    "colab": {
     "base_uri": "https://localhost:8080/",
     "height": 981
    },
    "id": "3WiQw8X-qJre",
    "outputId": "f9e41be2-f715-47c5-bc0b-1870665cc6a0"
   },
   "outputs": [
    {
     "name": "stdout",
     "output_type": "stream",
     "text": [
      "(103024,)\n"
     ]
    }
   ],
   "source": [
    "import mysql.connector\n",
    "\n",
    "# Establishing the connection\n",
    "db = mysql.connector.connect(\n",
    "    host=\"localhost\",\n",
    "    user=\"root\",\n",
    "    password=\"Somnath.Kajal@2002\",\n",
    "    database=\"ola\" ,\n",
    "    consume_results = True\n",
    ")\n",
    "# Creating a cursor object to interact with the database\n",
    "cursor = db.cursor()\n",
    "\n",
    "# Example of executing a query\n",
    "cursor.execute(\"SELECT count(*) FROM ola_bookings\")\n",
    "\n",
    "# Fetching the results\n",
    "results = cursor.fetchall()\n",
    "\n",
    "# Loop through the results and print them\n",
    "for row in results:\n",
    "    print(row)\n",
    "\n",
    "# Closing the cursor and connection\n",
    "cursor.close()\n",
    "db.close()"
   ]
  },
  {
   "cell_type": "markdown",
   "metadata": {
    "id": "wUpzY_ynl7ML"
   },
   "source": [
    "Q7. Give the order of execution of SQL clauses in an SQL query."
   ]
  },
  {
   "cell_type": "markdown",
   "metadata": {
    "id": "8GmDAluRl97F"
   },
   "source": [
    "Ans: In SQL, the clauses in a query are executed in a specific order, even though they are written in a different sequence. Here is the order of execution of SQL clauses in a typical SQL query:\n",
    "\n",
    "Order of Execution of SQL Clauses\n",
    "FROM:\n",
    "\n",
    "This clause specifies the tables or views from which to retrieve the data. It is executed first to determine the data source.\n",
    "JOIN (if any):\n",
    "\n",
    "If there are any JOIN operations (like INNER JOIN, LEFT JOIN, etc.), they are applied after the FROM clause to combine the data from multiple tables.\n",
    "WHERE:\n",
    "\n",
    "The WHERE clause is applied next to filter rows based on the given condition(s). It eliminates rows from the result set that do not satisfy the condition.\n",
    "GROUP BY (if any):\n",
    "\n",
    "The GROUP BY clause is applied to group rows that have the same values into summary rows. This is often used with aggregate functions like SUM, COUNT, AVG, etc.\n",
    "HAVING (if any):\n",
    "\n",
    "The HAVING clause is similar to WHERE, but it is applied after GROUP BY to filter groups based on a condition, typically used with aggregate functions.\n",
    "SELECT:\n",
    "\n",
    "The SELECT clause specifies the columns to be returned in the result set. It is executed after the data has been filtered and grouped.\n",
    "DISTINCT (if any):\n",
    "\n",
    "If the DISTINCT keyword is used, it is applied after the SELECT clause to remove duplicate rows from the result set.\n",
    "ORDER BY:\n",
    "\n",
    "The ORDER BY clause is applied next to sort the result set in ascending or descending order based on one or more columns.\n",
    "LIMIT/OFFSET (if any):\n",
    "\n",
    "Finally, the LIMIT clause is applied to restrict the number of rows returned, and OFFSET specifies where to start retrieving the results from."
   ]
  },
  {
   "cell_type": "code",
   "execution_count": null,
   "metadata": {
    "id": "FqsxpOzqjHgw"
   },
   "outputs": [],
   "source": []
  }
 ],
 "metadata": {
  "colab": {
   "provenance": []
  },
  "kernelspec": {
   "display_name": "Python 3 (ipykernel)",
   "language": "python",
   "name": "python3"
  },
  "language_info": {
   "codemirror_mode": {
    "name": "ipython",
    "version": 3
   },
   "file_extension": ".py",
   "mimetype": "text/x-python",
   "name": "python",
   "nbconvert_exporter": "python",
   "pygments_lexer": "ipython3",
   "version": "3.12.4"
  }
 },
 "nbformat": 4,
 "nbformat_minor": 4
}
