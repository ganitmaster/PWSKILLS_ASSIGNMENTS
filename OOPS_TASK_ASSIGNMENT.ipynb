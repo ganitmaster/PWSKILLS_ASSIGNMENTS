{
  "nbformat": 4,
  "nbformat_minor": 0,
  "metadata": {
    "colab": {
      "provenance": []
    },
    "kernelspec": {
      "name": "python3",
      "display_name": "Python 3"
    },
    "language_info": {
      "name": "python"
    }
  },
  "cells": [
    {
      "cell_type": "markdown",
      "source": [
        "Q1, Create a vehicle class with an init method having instance variables as name_of_vehicle, max_speed\n",
        "and average_of_vehicle."
      ],
      "metadata": {
        "id": "tNPGrtbtgMlU"
      }
    },
    {
      "cell_type": "code",
      "execution_count": 1,
      "metadata": {
        "id": "d0FWP6vTgEBq"
      },
      "outputs": [],
      "source": [
        "class Vehicle:\n",
        "  def __init__(self,name_of_vehicle,max_speed,average_of_vehicle):\n",
        "    self.name_of_vehicle = name_of_vehicle\n",
        "    self.max_speed = max_speed\n",
        "    self.average_of_vehicle = average_of_vehicle"
      ]
    },
    {
      "cell_type": "markdown",
      "source": [
        "Q2. Create a child class car from the vehicle class created in Que 1, which will inherit the vehicle class.\n",
        "Create a method named seating_capacity which takes capacity as an argument and returns the name of\n",
        "the vehicle and its seating capacity."
      ],
      "metadata": {
        "id": "eukL6acFgPw8"
      }
    },
    {
      "cell_type": "code",
      "source": [
        "class Car(Vehicle):\n",
        "  def seating_capacity(self,Capacity):\n",
        "    return self.name_of_vehicle,Capacity"
      ],
      "metadata": {
        "id": "Cq6E0h9vgQIK"
      },
      "execution_count": 2,
      "outputs": []
    },
    {
      "cell_type": "markdown",
      "source": [
        "Q3. What is multiple inheritance? Write a python code to demonstrate multiple inheritance."
      ],
      "metadata": {
        "id": "-0oaIF-VgSxr"
      }
    },
    {
      "cell_type": "markdown",
      "source": [
        "Ans: Multiple Inheritance -\n",
        "When a class is derived from more than one base class it is called multiple Inheritance. The derived class inherits all the features of the base case."
      ],
      "metadata": {
        "id": "arYi4CDqqbT9"
      }
    },
    {
      "cell_type": "code",
      "source": [
        "class SuperClass:\n",
        "  def meth1(self):\n",
        "    print(\"Super Class\")\n",
        "\n",
        "class SubClass1(SuperClass):\n",
        "  def meth2(self):\n",
        "    print(\"Sub Class 1\")\n",
        "\n",
        "class SubClass2(SubClass1):\n",
        "  def meth3(self):\n",
        "    print(\"Sub Class 2\")\n",
        "\n",
        "ob1 = SubClass2()\n",
        "ob1.meth1()\n",
        "ob1.meth2()\n",
        "ob1.meth3()"
      ],
      "metadata": {
        "id": "O6ixaCVugTWh",
        "colab": {
          "base_uri": "https://localhost:8080/"
        },
        "outputId": "be6d5797-194d-4f94-c0f0-9ad165bcb780"
      },
      "execution_count": 8,
      "outputs": [
        {
          "output_type": "stream",
          "name": "stdout",
          "text": [
            "Super Class\n",
            "Sub Class 1\n",
            "Sub Class 2\n"
          ]
        }
      ]
    },
    {
      "cell_type": "markdown",
      "source": [
        "Q4. What are getter and setter in python? Create a class and create a getter and a setter method in this\n",
        "class."
      ],
      "metadata": {
        "id": "LrXBvKRygWKx"
      }
    },
    {
      "cell_type": "markdown",
      "source": [
        "**Ans: Getter:** Getters are the methods that are used in Object-Oriented Programming (OOPS) to access a class's private attributes. The setattr() function in Python corresponds to the getattr() function in Python. It alters an object's attribute values.\n",
        "\n",
        "**Setter:** The setter is a method that is used to set the property's value. It is very useful in object-oriented programming to set the value of private attributes in a class."
      ],
      "metadata": {
        "id": "4KbpSvBuuZdH"
      }
    },
    {
      "cell_type": "code",
      "source": [
        "class Student:\n",
        "  def __init__(self,name,age):\n",
        "    self.__name = name\n",
        "    self.__age = age\n",
        "  #Setter Function\n",
        "  def age_setter(self,age):\n",
        "    self.__age = age\n",
        "  #Getter Function\n",
        "  def age_getter(self):\n",
        "    return self.__age\n",
        "\n",
        "ob1 = Student(\"Aryan\",21)\n",
        "print(\"Before calling setter:\",ob1.age_getter())\n",
        "ob1.age_setter(22)\n",
        "print(\"After calling setter:\",ob1.age_getter())\n"
      ],
      "metadata": {
        "id": "SumDXh_GgWhm",
        "colab": {
          "base_uri": "https://localhost:8080/"
        },
        "outputId": "125b16a3-e22e-4bef-8212-0cda0e700366"
      },
      "execution_count": 11,
      "outputs": [
        {
          "output_type": "stream",
          "name": "stdout",
          "text": [
            "Before calling setter: 21\n",
            "After calling setter: 22\n"
          ]
        }
      ]
    },
    {
      "cell_type": "markdown",
      "source": [
        "Q5.What is method overriding in python? Write a python code to demonstrate method overriding."
      ],
      "metadata": {
        "id": "R5z9UaqRgZjR"
      }
    },
    {
      "cell_type": "markdown",
      "source": [
        "**Ans: Method Overriding:** Any object-oriented programming language can allow a subclass or child class to offer a customized implementation of a method already supplied by one of its superclasses or parent classes. This capability is known as method overriding. The term \"override\" refers to a method in a subclass that replaces a method in a superclass when both methods share the same name, parameters, signature, and return type (or sub-type)."
      ],
      "metadata": {
        "id": "cV6f3GBnxiCq"
      }
    },
    {
      "cell_type": "code",
      "source": [
        "class SuperClass:\n",
        "  # Method creating in the parent class with name \"meth1\"\n",
        "  def meth1(self):\n",
        "    print(\"Super Class\")\n",
        "\n",
        "class SubClass(SuperClass):\n",
        "  # Method overriding in the child class by using parent method name\n",
        "  def meth1(self):\n",
        "    print(\"Sub Class\")\n",
        "\n",
        "ob1 = SubClass()\n",
        "ob1.meth1()"
      ],
      "metadata": {
        "id": "l27vr87jgaHK",
        "colab": {
          "base_uri": "https://localhost:8080/"
        },
        "outputId": "b332ca19-2487-4093-b1d4-41aacb298b90"
      },
      "execution_count": 14,
      "outputs": [
        {
          "output_type": "stream",
          "name": "stdout",
          "text": [
            "Sub Class\n"
          ]
        }
      ]
    },
    {
      "cell_type": "code",
      "source": [],
      "metadata": {
        "id": "Q_WQr_Yuyi0I"
      },
      "execution_count": null,
      "outputs": []
    }
  ]
}