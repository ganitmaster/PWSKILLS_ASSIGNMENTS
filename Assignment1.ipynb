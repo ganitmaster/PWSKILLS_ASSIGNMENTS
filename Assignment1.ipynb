{
 "cells": [
  {
   "cell_type": "markdown",
   "id": "3e2621cd-6378-4586-b06b-ea0004ab10e8",
   "metadata": {},
   "source": [
    "Q1. Create one variable containing following type of data:\n",
    "\n",
    "(i) string\n",
    "\n",
    "(ii) list\n",
    "\n",
    "(iii) float\n",
    "\n",
    "(iv) tuple"
   ]
  },
  {
   "cell_type": "code",
   "execution_count": 1,
   "id": "a27c22ea-65e4-4cb0-b061-58f12d7f5a4b",
   "metadata": {},
   "outputs": [
    {
     "data": {
      "text/plain": [
       "str"
      ]
     },
     "execution_count": 1,
     "metadata": {},
     "output_type": "execute_result"
    }
   ],
   "source": [
    "#(i) string\n",
    "string_1 = \"abc\"\n",
    "type(string_1)"
   ]
  },
  {
   "cell_type": "code",
   "execution_count": 2,
   "id": "f018c3b0-e415-4794-8597-0cad20e93666",
   "metadata": {},
   "outputs": [
    {
     "data": {
      "text/plain": [
       "list"
      ]
     },
     "execution_count": 2,
     "metadata": {},
     "output_type": "execute_result"
    }
   ],
   "source": [
    "#(ii) List\n",
    "list_1 = [1,2,3,4,5]\n",
    "type(list_1)"
   ]
  },
  {
   "cell_type": "code",
   "execution_count": 3,
   "id": "9f5800ea-218c-4305-9a81-daccc1334640",
   "metadata": {},
   "outputs": [
    {
     "data": {
      "text/plain": [
       "float"
      ]
     },
     "execution_count": 3,
     "metadata": {},
     "output_type": "execute_result"
    }
   ],
   "source": [
    "#(iii) float\n",
    "float_1 = 10.5\n",
    "type(float_1)"
   ]
  },
  {
   "cell_type": "code",
   "execution_count": 4,
   "id": "0656fc6b-a616-4779-9d38-f8e65b8c4b0b",
   "metadata": {},
   "outputs": [
    {
     "data": {
      "text/plain": [
       "tuple"
      ]
     },
     "execution_count": 4,
     "metadata": {},
     "output_type": "execute_result"
    }
   ],
   "source": [
    "#(iv) tuple\n",
    "tup = (10,20,30,40,50)\n",
    "type(tup)"
   ]
  },
  {
   "cell_type": "markdown",
   "id": "166e6038-3299-4009-82f4-31f483a9175f",
   "metadata": {},
   "source": [
    "Q2. Given are some following variables containing data:\n",
    "\n",
    "(i) var1 = ‘ ‘\n",
    "\n",
    "(ii) var2 = ‘[ DS , ML , Python]’\n",
    "\n",
    "(iii) var3 = [ ‘DS’ , ’ML’ , ‘Python’ ]\n",
    "\n",
    "(iv) var4 = 1.\n",
    "\n",
    "What will be the data type of the above given variable."
   ]
  },
  {
   "cell_type": "code",
   "execution_count": 5,
   "id": "9eec2675-34ea-4711-a828-930463117d8b",
   "metadata": {},
   "outputs": [
    {
     "data": {
      "text/plain": [
       "str"
      ]
     },
     "execution_count": 5,
     "metadata": {},
     "output_type": "execute_result"
    }
   ],
   "source": [
    "# (i)\n",
    "var1 = ' '\n",
    "type(var1)"
   ]
  },
  {
   "cell_type": "code",
   "execution_count": 6,
   "id": "bf54e16d-e6b7-4cb6-aaa5-96167e9fd3dc",
   "metadata": {},
   "outputs": [
    {
     "data": {
      "text/plain": [
       "str"
      ]
     },
     "execution_count": 6,
     "metadata": {},
     "output_type": "execute_result"
    }
   ],
   "source": [
    "#(ii)\n",
    "var2 = '[ DS , ML , Python]'\n",
    "type(var2)"
   ]
  },
  {
   "cell_type": "code",
   "execution_count": 7,
   "id": "e73f8b3b-983c-4653-ab20-6f18ef472b64",
   "metadata": {},
   "outputs": [
    {
     "data": {
      "text/plain": [
       "list"
      ]
     },
     "execution_count": 7,
     "metadata": {},
     "output_type": "execute_result"
    }
   ],
   "source": [
    "# (iii)\n",
    "var3 = [ 'DS' , 'ML' , 'Python']\n",
    "type(var3)"
   ]
  },
  {
   "cell_type": "code",
   "execution_count": 8,
   "id": "2c45d37b-100e-4301-9c0d-652cc6dbc4b5",
   "metadata": {},
   "outputs": [
    {
     "data": {
      "text/plain": [
       "float"
      ]
     },
     "execution_count": 8,
     "metadata": {},
     "output_type": "execute_result"
    }
   ],
   "source": [
    "#(iv)\n",
    "var4 = 1.\n",
    "type(var4)"
   ]
  },
  {
   "cell_type": "markdown",
   "id": "e5c7245e-5a1e-4a30-9541-c83bf4270a4a",
   "metadata": {},
   "source": [
    "Q3. Explain the use of the following operators using an example:\n",
    "\n",
    "(i) /\n",
    "\n",
    "(ii) %\n",
    "\n",
    "(iii) //\n",
    "\n",
    "(iv) **"
   ]
  },
  {
   "cell_type": "code",
   "execution_count": 9,
   "id": "3842c868-46b9-45eb-b3b3-f1cdecbe3ba4",
   "metadata": {},
   "outputs": [
    {
     "data": {
      "text/plain": [
       "3.3333333333333335"
      ]
     },
     "execution_count": 9,
     "metadata": {},
     "output_type": "execute_result"
    }
   ],
   "source": [
    "# (i) / -> Division operator \n",
    "div1 = 10/3\n",
    "div1"
   ]
  },
  {
   "cell_type": "code",
   "execution_count": 10,
   "id": "b01fe8e1-f32f-4dcb-a5b0-7ed7f23dbdcd",
   "metadata": {},
   "outputs": [
    {
     "data": {
      "text/plain": [
       "1"
      ]
     },
     "execution_count": 10,
     "metadata": {},
     "output_type": "execute_result"
    }
   ],
   "source": [
    "#(ii) % -> Modular Operator \n",
    "mod1 = 10%3\n",
    "mod1"
   ]
  },
  {
   "cell_type": "code",
   "execution_count": 11,
   "id": "bbf504a0-52a8-4e62-b528-c13485e99858",
   "metadata": {},
   "outputs": [
    {
     "data": {
      "text/plain": [
       "3"
      ]
     },
     "execution_count": 11,
     "metadata": {},
     "output_type": "execute_result"
    }
   ],
   "source": [
    "# (iii) // -> float division operator\n",
    "div2 = 10//3\n",
    "div2"
   ]
  },
  {
   "cell_type": "code",
   "execution_count": 12,
   "id": "a8cbc0ea-a560-4200-a3f8-56a614cd3b9a",
   "metadata": {},
   "outputs": [
    {
     "data": {
      "text/plain": [
       "100"
      ]
     },
     "execution_count": 12,
     "metadata": {},
     "output_type": "execute_result"
    }
   ],
   "source": [
    "# (iv) ** -> square operator \n",
    "mul = 10**2\n",
    "mul"
   ]
  },
  {
   "cell_type": "markdown",
   "id": "96fd5fa4-44bd-476b-a9b4-054e9e7a7a6f",
   "metadata": {},
   "source": [
    "Q4. Create a list of length 10 of your choice containing multiple types of data. Using for loop print the\n",
    "element and its data type."
   ]
  },
  {
   "cell_type": "code",
   "execution_count": 13,
   "id": "c18b5886-5ff8-46dd-a4ac-e3c8ff6bfb88",
   "metadata": {},
   "outputs": [
    {
     "name": "stdout",
     "output_type": "stream",
     "text": [
      "<class 'int'>\n",
      "<class 'float'>\n",
      "<class 'complex'>\n",
      "<class 'str'>\n",
      "<class 'bool'>\n",
      "<class 'list'>\n",
      "<class 'tuple'>\n",
      "<class 'set'>\n",
      "<class 'dict'>\n",
      "<class 'NoneType'>\n"
     ]
    }
   ],
   "source": [
    "list1 = [10,10.2,10+2j,'ABC',True,[1,2,3],(4,5,6),{7,8,9},{'a':1,'b':2},None]\n",
    "for i in range(len(list1)):\n",
    "    print(type(list1[i]))"
   ]
  },
  {
   "cell_type": "markdown",
   "id": "8687ba6f-c5a8-44de-92be-1fd846a670d3",
   "metadata": {},
   "source": [
    "Q5. Using a while loop, verify if the number A is purely divisible by number B and if so then how many\n",
    "times it can be divisible."
   ]
  },
  {
   "cell_type": "code",
   "execution_count": 20,
   "id": "a9a13424-2862-4aaf-a1e5-399081456f84",
   "metadata": {},
   "outputs": [
    {
     "name": "stdin",
     "output_type": "stream",
     "text": [
      "Enter A: 20\n",
      "Enter B: 2\n"
     ]
    },
    {
     "name": "stdout",
     "output_type": "stream",
     "text": [
      "20.0 is divisble by 2 exactly 1 times.\n",
      "10.0 is divisble by 2 exactly 2 times.\n"
     ]
    }
   ],
   "source": [
    "A = int(input(\"Enter A:\"))\n",
    "B = int(input(\"Enter B:\"))\n",
    "count = 0\n",
    "while A>=B and A%B==0:\n",
    "    A/=B\n",
    "    count +=1\n",
    "    if count > 0 :\n",
    "        print( f\"{A*B} is divisble by {B} exactly {count} times.\")\n",
    "    else:\n",
    "        print(f\"{A*B} is not divisible by {B}.\")"
   ]
  },
  {
   "cell_type": "markdown",
   "id": "1426fb75-2ed0-4f3b-9eda-63e241043217",
   "metadata": {},
   "source": [
    "Q6. Create a list containing 25 int type data. Using for loop and if-else condition print if the element is\n",
    "divisible by 3 or not."
   ]
  },
  {
   "cell_type": "code",
   "execution_count": 21,
   "id": "059a0c15-8e89-40d5-9e2d-abc1915c898d",
   "metadata": {},
   "outputs": [
    {
     "name": "stdout",
     "output_type": "stream",
     "text": [
      "0   divisible\n",
      "1   not divisible\n",
      "2   not divisible\n",
      "3   not divisible\n",
      "4   not divisible\n",
      "5   not divisible\n",
      "6   divisible\n",
      "7   not divisible\n",
      "8   divisible\n",
      "9   not divisible\n",
      "10   divisible\n",
      "11   not divisible\n",
      "12   not divisible\n",
      "13   not divisible\n",
      "14   not divisible\n",
      "15   not divisible\n",
      "16   divisible\n",
      "17   not divisible\n",
      "18   not divisible\n",
      "19   not divisible\n",
      "20   not divisible\n",
      "21   divisible\n",
      "22   not divisible\n",
      "23   divisible\n",
      "24   divisible\n"
     ]
    }
   ],
   "source": [
    "import random\n",
    "rand_list=[]\n",
    "for i in range(25):\n",
    "    rand_list.append(random.randint(1,25))\n",
    "    if rand_list[i]%3==0:\n",
    "        print(i,\"  divisible\")\n",
    "    else:\n",
    "        print(i,\"  not divisible\")"
   ]
  },
  {
   "cell_type": "markdown",
   "id": "2a7706e5-cef6-471c-9a10-18fb1427d7cc",
   "metadata": {},
   "source": [
    "Q7. What do you understand about mutable and immutable data types? Give examples for both showing\n",
    "this property."
   ]
  },
  {
   "cell_type": "markdown",
   "id": "1c79bdd6-6032-487b-82d5-97ffc8b49ea1",
   "metadata": {},
   "source": [
    "Mutable Data Types -> A mutable data type is those whose values can be changed.\n",
    "           Example: List, Dictionaries, and Set\n",
    "           \n",
    "Immutable Data Types-> An immutable data type is one in which the values can’t be changed or altered.\n",
    "             Example: String and Tuples"
   ]
  },
  {
   "cell_type": "code",
   "execution_count": 22,
   "id": "8faf383d-60aa-49aa-9f25-5d3233434c7c",
   "metadata": {},
   "outputs": [
    {
     "name": "stdout",
     "output_type": "stream",
     "text": [
      "[10, 20, 30, 40]\n",
      "[10, 20, 30, 40, 50]\n"
     ]
    }
   ],
   "source": [
    "#Mutable\n",
    "list4 =[10,20,30,40]\n",
    "print(list4)\n",
    "list4.append(50)\n",
    "print(list4)"
   ]
  },
  {
   "cell_type": "code",
   "execution_count": 23,
   "id": "f364011b-4199-47b7-9628-b0dacfb9f1bf",
   "metadata": {},
   "outputs": [
    {
     "name": "stdout",
     "output_type": "stream",
     "text": [
      "(10, 20, 30, 40)\n"
     ]
    },
    {
     "ename": "TypeError",
     "evalue": "'tuple' object does not support item assignment",
     "output_type": "error",
     "traceback": [
      "\u001b[0;31m---------------------------------------------------------------------------\u001b[0m",
      "\u001b[0;31mTypeError\u001b[0m                                 Traceback (most recent call last)",
      "Cell \u001b[0;32mIn[23], line 4\u001b[0m\n\u001b[1;32m      2\u001b[0m tup1 \u001b[38;5;241m=\u001b[39m \u001b[38;5;241m10\u001b[39m,\u001b[38;5;241m20\u001b[39m,\u001b[38;5;241m30\u001b[39m,\u001b[38;5;241m40\u001b[39m\n\u001b[1;32m      3\u001b[0m \u001b[38;5;28mprint\u001b[39m(tup1)\n\u001b[0;32m----> 4\u001b[0m \u001b[43mtup1\u001b[49m\u001b[43m[\u001b[49m\u001b[38;5;241;43m1\u001b[39;49m\u001b[43m]\u001b[49m \u001b[38;5;241m=\u001b[39m \u001b[38;5;241m50\u001b[39m\n",
      "\u001b[0;31mTypeError\u001b[0m: 'tuple' object does not support item assignment"
     ]
    }
   ],
   "source": [
    "#Immutable\n",
    "tup1 = 10,20,30,40\n",
    "print(tup1)\n",
    "tup1[1] = 50"
   ]
  },
  {
   "cell_type": "code",
   "execution_count": null,
   "id": "85efe509-40c1-420f-8460-ae38bbafd5d9",
   "metadata": {},
   "outputs": [],
   "source": []
  },
  {
   "cell_type": "code",
   "execution_count": null,
   "id": "ea4e3cbb-d496-4749-b73c-d81946e7a316",
   "metadata": {},
   "outputs": [],
   "source": []
  }
 ],
 "metadata": {
  "kernelspec": {
   "display_name": "Python 3 (ipykernel)",
   "language": "python",
   "name": "python3"
  },
  "language_info": {
   "codemirror_mode": {
    "name": "ipython",
    "version": 3
   },
   "file_extension": ".py",
   "mimetype": "text/x-python",
   "name": "python",
   "nbconvert_exporter": "python",
   "pygments_lexer": "ipython3",
   "version": "3.10.8"
  }
 },
 "nbformat": 4,
 "nbformat_minor": 5
}
