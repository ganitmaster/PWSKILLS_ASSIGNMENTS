{
  "nbformat": 4,
  "nbformat_minor": 0,
  "metadata": {
    "colab": {
      "provenance": []
    },
    "kernelspec": {
      "name": "python3",
      "display_name": "Python 3"
    },
    "language_info": {
      "name": "python"
    }
  },
  "cells": [
    {
      "cell_type": "markdown",
      "source": [
        "Q1. How do you comment code in Python? What are the different types of comments?"
      ],
      "metadata": {
        "id": "D5B5bP0zo5WK"
      }
    },
    {
      "cell_type": "markdown",
      "source": [
        "Ans: Comments in Python are identified with a hash symbol, #, and extend to the end of the line.\n",
        "Different Types of Comments in Python -\n",
        "\n",
        "Single-Line Comments -\n",
        "\n",
        "Single-line comments begin with the “#” character.\n",
        "\n",
        "Multi-Line Comments -\n",
        "\n",
        "Python does not support multi-line comments.The first way is by using # at the beginning of each line of the comment.The next way is by using string literals but not assigning them to any variables.You can either use a single (‘’) quotation or double (“”) quotation."
      ],
      "metadata": {
        "id": "Ec3KP8IrqXBQ"
      }
    },
    {
      "cell_type": "code",
      "execution_count": 2,
      "metadata": {
        "id": "gGZ-rby0gsVT",
        "colab": {
          "base_uri": "https://localhost:8080/",
          "height": 36
        },
        "outputId": "702a46bf-cc74-4c85-f162-45eee6834ec9"
      },
      "outputs": [
        {
          "output_type": "execute_result",
          "data": {
            "text/plain": [
              "'comment here\\n   this is multiline comment'"
            ],
            "application/vnd.google.colaboratory.intrinsic+json": {
              "type": "string"
            }
          },
          "metadata": {},
          "execution_count": 2
        }
      ],
      "source": [
        "#comment here\n",
        "\"abcd comment\"\n",
        "'''comment here\n",
        "   this is multiline comment'''"
      ]
    },
    {
      "cell_type": "markdown",
      "source": [
        "Q2. What are variables in Python? How do you declare and assign values to variables?"
      ],
      "metadata": {
        "id": "uOBR5havo9-b"
      }
    },
    {
      "cell_type": "markdown",
      "source": [
        "Ans: Variables: Python variables are simply containers for storing data values.A Python variable may be assigned a value of one type and then later re-assigned a value of a different type. For example, x = \"apples\" can later be x = 5."
      ],
      "metadata": {
        "id": "Gh84w6MjsXQH"
      }
    },
    {
      "cell_type": "code",
      "source": [
        "x = 10\n",
        "y = \"Hello\"\n",
        "print(x)\n",
        "print(y)"
      ],
      "metadata": {
        "colab": {
          "base_uri": "https://localhost:8080/"
        },
        "id": "MDFmRmKco2vA",
        "outputId": "286f1520-36bd-42a6-a9e8-c3e86f60ccf0"
      },
      "execution_count": 3,
      "outputs": [
        {
          "output_type": "stream",
          "name": "stdout",
          "text": [
            "10\n",
            "Hello\n"
          ]
        }
      ]
    },
    {
      "cell_type": "markdown",
      "source": [
        "Q3. How do you convert one data type to another in Python?"
      ],
      "metadata": {
        "id": "1W0KmbzYpBU6"
      }
    },
    {
      "cell_type": "markdown",
      "source": [
        "Ans: Data conversion in Python can happen in two ways: either you tell the compiler to convert a data type to some other type explicitly, or the compiler understands this by itself and does it for you. In the former case, you're performing an explicit data type conversion, whereas, in the latter, you're doing an implicit data type conversion."
      ],
      "metadata": {
        "id": "1LFjf9Vvtd3Z"
      }
    },
    {
      "cell_type": "code",
      "source": [
        "#Implicit Conversion\n",
        "a_int = 1\n",
        "b_float = 1.0\n",
        "c_sum = a_int + b_float\n",
        "print(c_sum)\n",
        "print(type(c_sum))"
      ],
      "metadata": {
        "colab": {
          "base_uri": "https://localhost:8080/"
        },
        "id": "tE-fo1GzpJiy",
        "outputId": "c9f7407a-afc4-4aa1-9491-509111e9b105"
      },
      "execution_count": 4,
      "outputs": [
        {
          "output_type": "stream",
          "name": "stdout",
          "text": [
            "2.0\n",
            "<class 'float'>\n"
          ]
        }
      ]
    },
    {
      "cell_type": "code",
      "source": [
        "#Explicit Conversion\n",
        "a_int = 1\n",
        "b_float = float(a_int)\n",
        "print(a_int)\n",
        "print(b_float)\n",
        "print(type(a_int))\n",
        "print(type(b_float))"
      ],
      "metadata": {
        "colab": {
          "base_uri": "https://localhost:8080/"
        },
        "id": "Liy85PF5tw5M",
        "outputId": "31be0d7f-4a7c-4f41-d45c-30c86e363d20"
      },
      "execution_count": 6,
      "outputs": [
        {
          "output_type": "stream",
          "name": "stdout",
          "text": [
            "1\n",
            "1.0\n",
            "<class 'int'>\n",
            "<class 'float'>\n"
          ]
        }
      ]
    },
    {
      "cell_type": "markdown",
      "source": [
        "Q4. How do you write and execute a Python script from the command line?"
      ],
      "metadata": {
        "id": "TMssU1FUo1lb"
      }
    },
    {
      "cell_type": "markdown",
      "source": [
        "Ans: The most basic and easy way to run a Python script is by using the python command. You need to open a command line and type the word python followed by the path to your script file like this:\n",
        "\n",
        "python first_script.py\n",
        "Hello World!\n",
        "\n",
        "Then you hit the ENTER button from the keyboard, and that's it."
      ],
      "metadata": {
        "id": "dQqIdl1Ku_GR"
      }
    },
    {
      "cell_type": "markdown",
      "source": [
        "Q5. Given a list my_list = [1, 2, 3, 4, 5], write the code to slice the list and obtain the sub-list [2, 3]."
      ],
      "metadata": {
        "id": "aSYVKJVTpKuR"
      }
    },
    {
      "cell_type": "code",
      "source": [
        "my_list = [1, 2, 3, 4, 5]\n",
        "print(my_list[2:3])"
      ],
      "metadata": {
        "colab": {
          "base_uri": "https://localhost:8080/"
        },
        "id": "tKRmLmippNqb",
        "outputId": "f7d4bacb-550a-4c96-95b4-54cb2af43016"
      },
      "execution_count": 7,
      "outputs": [
        {
          "output_type": "stream",
          "name": "stdout",
          "text": [
            "[3]\n"
          ]
        }
      ]
    },
    {
      "cell_type": "markdown",
      "source": [
        "Q6. What is a complex number in mathematics, and how is it represented in Python?"
      ],
      "metadata": {
        "id": "qlFxihQSpOWv"
      }
    },
    {
      "cell_type": "markdown",
      "source": [
        "Ans: Complex numbers have their uses in many applications related to mathematics and python provides useful tools to handle and manipulate them. Converting real numbers to complex number An complex number is represented by “ x + yi “. Python converts the real numbers x and y into complex using the function complex(x,y)."
      ],
      "metadata": {
        "id": "E42r7JFlvuUh"
      }
    },
    {
      "cell_type": "code",
      "source": [
        "import cmath\n",
        "x=5\n",
        "y=9\n",
        "z=complex(x,y)\n",
        "print(z)"
      ],
      "metadata": {
        "colab": {
          "base_uri": "https://localhost:8080/"
        },
        "id": "fZskFXiXpQ0T",
        "outputId": "27444cf5-c0c4-4b8a-8176-1aaf080ca1ea"
      },
      "execution_count": 8,
      "outputs": [
        {
          "output_type": "stream",
          "name": "stdout",
          "text": [
            "(5+9j)\n"
          ]
        }
      ]
    },
    {
      "cell_type": "markdown",
      "source": [
        "Q7. What is the correct way to declare a variable named age and assign the value 25 to it?"
      ],
      "metadata": {
        "id": "vZ7GziRCpTDc"
      }
    },
    {
      "cell_type": "code",
      "source": [
        "age = 25"
      ],
      "metadata": {
        "id": "KpoO2nzwpTms"
      },
      "execution_count": 9,
      "outputs": []
    },
    {
      "cell_type": "markdown",
      "source": [
        "Q8. Declare a variable named price and assign the value 9.99 to it. What data type does this variable\n",
        "belong to?"
      ],
      "metadata": {
        "id": "6LFnrv2qpWUw"
      }
    },
    {
      "cell_type": "code",
      "source": [
        "price = 9.99\n",
        "type(price)"
      ],
      "metadata": {
        "colab": {
          "base_uri": "https://localhost:8080/"
        },
        "id": "cn5BTJ-upW-b",
        "outputId": "bb357c25-e6aa-4d46-d7fa-5df32783055c"
      },
      "execution_count": 10,
      "outputs": [
        {
          "output_type": "execute_result",
          "data": {
            "text/plain": [
              "float"
            ]
          },
          "metadata": {},
          "execution_count": 10
        }
      ]
    },
    {
      "cell_type": "markdown",
      "source": [
        "Q9. Create a variable named name and assign your full name to it as a string. How would you print the\n",
        "value of this variable?"
      ],
      "metadata": {
        "id": "jw8NUrx7pZrY"
      }
    },
    {
      "cell_type": "code",
      "source": [
        "name = \"Somnath Tiwari\"\n",
        "print(name)"
      ],
      "metadata": {
        "colab": {
          "base_uri": "https://localhost:8080/"
        },
        "id": "Ah1pt_qcpaQR",
        "outputId": "7711c709-e016-4bbf-89a5-4058a5617b42"
      },
      "execution_count": 11,
      "outputs": [
        {
          "output_type": "stream",
          "name": "stdout",
          "text": [
            "Somnath Tiwari\n"
          ]
        }
      ]
    },
    {
      "cell_type": "markdown",
      "source": [
        "Q10. Given the string \"Hello, World!\", extract the substring \"World\"."
      ],
      "metadata": {
        "id": "bUzAAVdYpfCW"
      }
    },
    {
      "cell_type": "code",
      "source": [
        "str1 = \"Hello, World!\"\n",
        "print(str1[7:13])"
      ],
      "metadata": {
        "colab": {
          "base_uri": "https://localhost:8080/"
        },
        "id": "YLiCfsIOpcyE",
        "outputId": "2cc4612a-97d7-4b89-f386-eaa5bab02ff9"
      },
      "execution_count": 16,
      "outputs": [
        {
          "output_type": "stream",
          "name": "stdout",
          "text": [
            "World!\n"
          ]
        }
      ]
    },
    {
      "cell_type": "markdown",
      "source": [
        "Q11. Create a variable named \"is_student\" and assign it a boolean value indicating whether you are\n",
        "currently a student or not."
      ],
      "metadata": {
        "id": "d9KllCflpgvb"
      }
    },
    {
      "cell_type": "code",
      "source": [
        "is_student = True\n",
        "print(is_student)"
      ],
      "metadata": {
        "colab": {
          "base_uri": "https://localhost:8080/"
        },
        "id": "SE9lW928pjvX",
        "outputId": "9f3089f0-c3ec-4092-b80a-be571c0e4329"
      },
      "execution_count": 18,
      "outputs": [
        {
          "output_type": "stream",
          "name": "stdout",
          "text": [
            "True\n"
          ]
        }
      ]
    },
    {
      "cell_type": "code",
      "source": [],
      "metadata": {
        "id": "o8lXgQtPxUBz"
      },
      "execution_count": null,
      "outputs": []
    }
  ]
}