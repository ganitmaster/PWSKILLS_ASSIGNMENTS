{
  "nbformat": 4,
  "nbformat_minor": 0,
  "metadata": {
    "colab": {
      "provenance": []
    },
    "kernelspec": {
      "name": "python3",
      "display_name": "Python 3"
    },
    "language_info": {
      "name": "python"
    }
  },
  "cells": [
    {
      "cell_type": "markdown",
      "source": [
        "Q1. What is Abstraction in OOps? Explain with an example.\n"
      ],
      "metadata": {
        "id": "fMAFVgn4hVgn"
      }
    },
    {
      "cell_type": "markdown",
      "source": [
        "Ans: Abstraction is the process of hiding the internal details of an application from the outer world. Abstraction is used to describe things in simple terms. It’s used to create a boundary between the application and the client programs.\n",
        "\n",
        "Abstraction is similar to data encapsulation and very important in OOPs. It shows only the necessary information and hides the other irrelevant information. Abstraction is implemented using Abstraction classes and interfaces . The problems in Abstraction are solved at design or interface level."
      ],
      "metadata": {
        "id": "jK7Hjp3-KnEP"
      }
    },
    {
      "cell_type": "code",
      "source": [
        "import abc\n",
        "class Car:\n",
        "  @abc.abstractmethod\n",
        "  def mileage(self):\n",
        "    pass\n",
        "\n",
        "class Tesla(Car):\n",
        "  def mileage(self):\n",
        "    print(\"The mileage is 30kmph\")\n",
        "\n",
        "class Suzuki(Car):\n",
        "  def mileage(self):\n",
        "    print(\"The mileage is 25kmph\")\n",
        "\n",
        "obj_t = Tesla()\n",
        "obj_s = Suzuki()\n",
        "obj_t.mileage()\n",
        "obj_s.mileage()"
      ],
      "metadata": {
        "id": "CVins8FGPqu7"
      },
      "execution_count": null,
      "outputs": []
    },
    {
      "cell_type": "markdown",
      "source": [
        "Q2. Differentiate between Abstraction and Encapsulation. Explain with an example.\n"
      ],
      "metadata": {
        "id": "oF5XPZimhYqe"
      }
    },
    {
      "cell_type": "markdown",
      "source": [
        "Ans: Abstraction is a process of hiding the implementation details of a system from the user, and only the functional details will be available to the user end. On the other hand, Encapsulation is a method of wrapping up the data and code acting on the data into a single unit."
      ],
      "metadata": {
        "id": "Vc9Tdpt_QMG3"
      }
    },
    {
      "cell_type": "code",
      "source": [
        "#Abstraction\n",
        "import abc\n",
        "class PWSkills:\n",
        "  @abc.abstractmethod\n",
        "  def student_details(self):\n",
        "    pass\n",
        "  @abc.abstractmethod\n",
        "  def student_marks(self):\n",
        "    pass\n",
        "\n",
        "class DataScience(PWSkills):\n",
        "  def student_details(self,name):\n",
        "    self.name = name\n",
        "    print(name)\n",
        "  def student_marks(self,marks):\n",
        "    self.marks = marks\n",
        "    print(marks)\n",
        "\n",
        "class MachineLearning(PWSkills):\n",
        "  def student_details(self,name):\n",
        "    self.name = name\n",
        "    print(name)\n",
        "  def student_marks(self,marks):\n",
        "    self.marks = marks\n",
        "    print(marks)\n",
        "\n",
        "ob_ds = DataScience()\n",
        "ob_ml = MachineLearning()\n",
        "ob_ds.student_details(\"Somnath Tiwari\")\n",
        "ob_ds.student_marks(95)\n",
        "ob_ml.student_details(\"Shikha\")\n",
        "ob_ml.student_marks(90)"
      ],
      "metadata": {
        "id": "JgjCZjp0hazp",
        "colab": {
          "base_uri": "https://localhost:8080/"
        },
        "outputId": "eaed950d-11ee-40d8-9efe-38acc720825f"
      },
      "execution_count": 2,
      "outputs": [
        {
          "output_type": "stream",
          "name": "stdout",
          "text": [
            "Somnath Tiwari\n",
            "95\n",
            "Shikha\n",
            "90\n"
          ]
        }
      ]
    },
    {
      "cell_type": "code",
      "source": [
        "#Encapsulation\n",
        "class StudentDetails:\n",
        "  def __init__(self,name,age,gender):\n",
        "    self.__name = name\n",
        "    self.__age = age\n",
        "    self.__gender = gender\n",
        "  def get_name(self):\n",
        "    return self.__name\n",
        "  def get_age(self):\n",
        "    return self.__age\n",
        "  def get_gender(self):\n",
        "    return  self.__gender\n",
        "\n",
        "stu = StudentDetails(\"Shivam Shahu\",21,\"Male\")\n",
        "print(stu.get_name())\n",
        "print(stu.get_age())\n",
        "print(stu.get_gender())"
      ],
      "metadata": {
        "colab": {
          "base_uri": "https://localhost:8080/"
        },
        "id": "u5AW1xQvVa3S",
        "outputId": "962b66d7-c9fe-4bae-81ba-5dcad6ad685b"
      },
      "execution_count": 7,
      "outputs": [
        {
          "output_type": "stream",
          "name": "stdout",
          "text": [
            "Shivam Shahu\n",
            "21\n",
            "Male\n"
          ]
        }
      ]
    },
    {
      "cell_type": "markdown",
      "source": [
        "Q3. What is abc module in python? Why is it used?\n"
      ],
      "metadata": {
        "id": "GkHtmj6IhbaM"
      }
    },
    {
      "cell_type": "markdown",
      "source": [
        "Ans: This module provides abstract base classes that can be used to test whether a class provides a particular interface; for example, whether it is hashable or whether it is a mapping.\n",
        "\n",
        "Why Declare an Abstract Base Class?\n",
        "\n",
        "To understand the need to declare a virtual subclass, we need to consider the example of a list-like object where you don’t want to put a restriction of only considering list or tuple. Before that let’s see how to use isinstance to check against a list or tuple of class."
      ],
      "metadata": {
        "id": "MOQ27vXwYGDc"
      }
    },
    {
      "cell_type": "markdown",
      "source": [
        "Q4. How can we achieve data abstraction?\n"
      ],
      "metadata": {
        "id": "ixAf8N2Thdgf"
      }
    },
    {
      "cell_type": "markdown",
      "source": [
        "Ans: Data Abstraction in Python can be achieved through creating abstract classes and inheriting them later.\n",
        "\n",
        "Inheritance in OOPs is a way through which one class inherits the attributes and methods of another class. The class whose properties and methods are inherited is known as the Parent class. And the class that inherits the properties from the parent class is the Child class/subclass.\n",
        "\n",
        "Abstract Class: The classes that cannot be instantiated. This means that we cannot create objects of an abstract class and these are only meant to be inherited. Then an object of the derived class is used to access the features of the base class. These are specifically defined to lay a foundation of other classes that exhibit common behavior or characteristics."
      ],
      "metadata": {
        "id": "K6nWXy6V8OB6"
      }
    },
    {
      "cell_type": "markdown",
      "source": [
        "Q5. Can we create an instance of an abstract class? Explain your answer."
      ],
      "metadata": {
        "id": "oDUA3X3uhf-k"
      }
    },
    {
      "cell_type": "markdown",
      "source": [
        "Ans: Abstract base classes cannot be instantiated directly. You can only create instances of concrete subclasses. Attempting to create an instance of an abstract base class will raise a TypeError."
      ],
      "metadata": {
        "id": "4C5CMVf_9aWL"
      }
    },
    {
      "cell_type": "code",
      "source": [
        "from abc import ABC, abstractmethod\n",
        "\n",
        "class War(ABC):\n",
        "  @abstractmethod\n",
        "  def attack(self):\n",
        "    pass\n",
        "try:\n",
        "  ob_war = War() # Will through an error\n",
        "except TypeError:\n",
        "  print(\"Abstract class can't be instantiated!\")\n",
        "finally:\n",
        "  print(\"Error handled!!!\")"
      ],
      "metadata": {
        "id": "GSKC_f4Ehgeh",
        "colab": {
          "base_uri": "https://localhost:8080/"
        },
        "outputId": "5cdf02de-5154-4f42-f155-48954e79ae6d"
      },
      "execution_count": 2,
      "outputs": [
        {
          "output_type": "stream",
          "name": "stdout",
          "text": [
            "Abstract class can't be instantiated!\n",
            "Error handled!!!\n"
          ]
        }
      ]
    },
    {
      "cell_type": "code",
      "source": [],
      "metadata": {
        "id": "MPq_ephh-DJa"
      },
      "execution_count": null,
      "outputs": []
    }
  ]
}