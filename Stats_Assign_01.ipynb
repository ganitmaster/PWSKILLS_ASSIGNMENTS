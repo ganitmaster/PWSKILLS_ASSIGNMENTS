{
  "nbformat": 4,
  "nbformat_minor": 0,
  "metadata": {
    "colab": {
      "provenance": []
    },
    "kernelspec": {
      "name": "python3",
      "display_name": "Python 3"
    },
    "language_info": {
      "name": "python"
    }
  },
  "cells": [
    {
      "cell_type": "markdown",
      "source": [
        "Q1.What is Statistics?"
      ],
      "metadata": {
        "id": "BYNcvygfYZZI"
      }
    },
    {
      "cell_type": "markdown",
      "source": [
        "Ans: Statistics is the study of Data Collection, Analysis, Interpretation, Presentation, and organizing in a specific way. Mathematical methods used for different analytics include mathematical Analysis, linear algebra, stochastic Analysis, the theory of measure-theoretical probability, and differential equations."
      ],
      "metadata": {
        "id": "DXbC_mb-YjF6"
      }
    },
    {
      "cell_type": "markdown",
      "source": [
        "Q2. Define the different types of statistics and give an example of when each type might be used."
      ],
      "metadata": {
        "id": "oUhkrvFOYi2q"
      }
    },
    {
      "cell_type": "markdown",
      "source": [
        "Ans: There are two kinds of Statistics, which are descriptive Statistics and inferential Statistics. In descriptive Statistics, the Data or Collection Data are described in a summarized way, whereas in inferential Statistics, we make use of it in order to explain the descriptive kind. Both of them are used on a large scale.\n",
        "\n",
        "Example: In a class, the Data is the set of marks obtained by 50 students. Now when we take out the Data average, the result is the average of 50 students’ marks. If the average marks obtained by 50 students are 88 out of 100, on the basis of the outcome, we will draw a conclusion."
      ],
      "metadata": {
        "id": "cooG77BsYpQS"
      }
    },
    {
      "cell_type": "markdown",
      "source": [
        "Q3. What are the different types of data and how do they differ from each other? Provide an example of\n",
        "each type of data."
      ],
      "metadata": {
        "id": "GVD9vqjDYquU"
      }
    },
    {
      "cell_type": "markdown",
      "source": [
        "Ans: Data types include:\n",
        "\n",
        "Quantitative: Numerical (e.g., height: 160.5 cm).\n",
        "\n",
        "Discrete: Whole numbers (e.g., 25 students).\n",
        "\n",
        "Continuous: Measurable within a range.\n",
        "\n",
        "Qualitative: Descriptive (e.g., fruit types: apples, oranges).\n",
        "\n",
        "Nominal: No order (e.g., colors).\n",
        "\n",
        "Ordinal: Ordered (e.g., satisfaction levels).\n",
        "\n",
        "Time-Series: Data over time (e.g., monthly sales).\n",
        "\n",
        "Cross-Sectional: Snapshot at one time (e.g., household incomes).\n",
        "\n",
        "Panel: Same subjects over time (e.g., annual incomes).\n",
        "\n",
        "Structured: Organized (e.g., spreadsheets).\n",
        "\n",
        "Unstructured: No predefined format (e.g., text documents)."
      ],
      "metadata": {
        "id": "4jnnP3ATYtur"
      }
    },
    {
      "cell_type": "markdown",
      "source": [
        "Q4. Categorise the following datasets with respect to quantitative and qualitative data types:\n",
        "\n",
        "(i) Grading in exam: A+, A, B+, B, C+, C, D, E\n",
        "\n",
        "(ii) Colour of mangoes: yellow, green, orange, red\n",
        "\n",
        "(iii) Height data of a class: [178.9, 179, 179.5, 176, 177.2, 178.3, 175.8,...]\n",
        "\n",
        "(iv) Number of mangoes exported by a farm: [500, 600, 478, 672, ...]"
      ],
      "metadata": {
        "id": "Q7O3BOYnYvy8"
      }
    },
    {
      "cell_type": "markdown",
      "source": [
        "Ans:\n",
        "\n",
        "i.   Qualitative Data\n",
        "\n",
        "ii.   Qualitative Data\n",
        "\n",
        "iii. Quantitative Data\n",
        "\n",
        "iv. Quantitative Data\n",
        "\n"
      ],
      "metadata": {
        "id": "qpJlspk2Y2-x"
      }
    },
    {
      "cell_type": "markdown",
      "source": [
        "Q5. Explain the concept of levels of measurement and give an example of a variable for each level."
      ],
      "metadata": {
        "id": "8A1ktiVyY5nk"
      }
    },
    {
      "cell_type": "markdown",
      "source": [
        "Ans: Levels of measurement, also called scales of measurement, tell you how precisely variables are recorded. There are four levels of measurement: nominal, ordinal, interval, and ratio.\n",
        "\n",
        "Nominal: Categorical data with no order or ranking. Example: Colors (red, blue, green)\n",
        "\n",
        "Ordinal: Categorical data with a clear order but the differences between values are not meaningful. Example: Education level (high school, bachelor's, master's)\n",
        "\n",
        "Interval: Numerical data with a meaningful order and the differences between values are consistent, but there is no true zero point. Example: Temperature in Celsius\n",
        "\n",
        "Ratio: Numerical data with a meaningful order, consistent differences between values, and a true zero point. Example: Height"
      ],
      "metadata": {
        "id": "ppT6IH4iY8g5"
      }
    },
    {
      "cell_type": "markdown",
      "source": [
        "Q6. Why is it important to understand the level of measurement when analyzing data? Provide an\n",
        "example to illustrate your answer."
      ],
      "metadata": {
        "id": "FOLdp05bY-EC"
      }
    },
    {
      "cell_type": "markdown",
      "source": [
        "Ans: Understanding the level of measurement is crucial because it dictates the types of statistical analyses that can be performed and the interpretations that can be made. For example, calculating the mean (average) of nominal data like colors (red, blue, green) is meaningless, while it's appropriate for ratio data like height."
      ],
      "metadata": {
        "id": "o0V3rfmYZCMF"
      }
    },
    {
      "cell_type": "markdown",
      "source": [
        "Q7. How nominal data type is different from ordinal data type."
      ],
      "metadata": {
        "id": "hwDaNtZYZCIf"
      }
    },
    {
      "cell_type": "markdown",
      "source": [
        "Ans: Both nominal and ordinal data types are categorical, but the difference lies in the presence of order.\n",
        "\n",
        "Nominal data has no order or ranking among its categories. Example: Types of fruit (apple, banana, orange).\n",
        "\n",
        "Ordinal data has a clear order or ranking. Example: Customer satisfaction levels (very satisfied, satisfied, neutral, dissatisfied).\n",
        "\n",
        "While you can count the frequency of each category in both types, you can't perform calculations like averaging with nominal data."
      ],
      "metadata": {
        "id": "oHbCpckZZCFX"
      }
    },
    {
      "cell_type": "markdown",
      "source": [
        "Q8. Which type of plot can be used to display data in terms of range?"
      ],
      "metadata": {
        "id": "D2CEdRfGZIwp"
      }
    },
    {
      "cell_type": "markdown",
      "source": [
        "Ans: A common plot for showing data ranges is a box plot. Box plots visually display the minimum, first quartile, median, third quartile, and maximum of a dataset. They are particularly useful for comparing the distribution and variability of different groups or datasets."
      ],
      "metadata": {
        "id": "yLiak3aHZbMr"
      }
    },
    {
      "cell_type": "markdown",
      "source": [
        "Q9. Describe the difference between descriptive and inferential statistics. Give an example of each\n",
        "type of statistics and explain how they are used."
      ],
      "metadata": {
        "id": "6oZ7g-eJZJqt"
      }
    },
    {
      "cell_type": "markdown",
      "source": [
        "Ans: Descriptive statistics summarize and describe the main features of a dataset. They don't make conclusions beyond the data.\n",
        "\n",
        "Example: Calculating the mean and standard deviation of exam scores to understand the average performance and the spread of the scores.\n",
        "Inferential statistics use sample data to make inferences or predictions about a larger population.\n",
        "\n",
        "Example: Conducting a hypothesis test to determine if there's a significant difference in test scores between two groups of students (e.g., those who received tutoring and those who did not)."
      ],
      "metadata": {
        "id": "-64HO6obZZ6u"
      }
    },
    {
      "cell_type": "markdown",
      "source": [
        "Q10. What are some common measures of central tendency and variability used in statistics? Explain\n",
        "how each measure can be used to describe a dataset."
      ],
      "metadata": {
        "id": "mrMQgQLGZKJm"
      }
    },
    {
      "cell_type": "markdown",
      "source": [
        "Ans: Measures of central tendency describe the center of a dataset.\n",
        "\n",
        "Mean: The average of all values. Useful for datasets without significant outliers.\n",
        "\n",
        "Median: The middle value when data is ordered. Less affected by outliers than the mean.\n",
        "\n",
        "Mode: The most frequent value. Useful for identifying common categories or values.\n",
        "\n",
        "Measures of variability describe the spread or dispersion of data points.\n",
        "\n",
        "Range: The difference between the maximum and minimum values. Sensitive to outliers.\n",
        "Variance: The average squared deviation of each data point from the mean. Provides a measure of overall spread.\n",
        "\n",
        "Standard deviation: The square root of the variance. More interpretable than variance as it's in the same units as the original data.\n",
        "\n",
        "Interquartile range (IQR): The range between the first and third quartiles (25th and 75th percentiles). Less sensitive to outliers than the range."
      ],
      "metadata": {
        "id": "9GGCBbvIZK2N"
      }
    },
    {
      "cell_type": "code",
      "execution_count": null,
      "metadata": {
        "id": "Aex0XgGZYVDU"
      },
      "outputs": [],
      "source": []
    }
  ]
}