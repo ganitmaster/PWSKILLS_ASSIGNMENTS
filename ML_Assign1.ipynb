{
  "nbformat": 4,
  "nbformat_minor": 0,
  "metadata": {
    "colab": {
      "provenance": []
    },
    "kernelspec": {
      "name": "python3",
      "display_name": "Python 3"
    },
    "language_info": {
      "name": "python"
    }
  },
  "cells": [
    {
      "cell_type": "markdown",
      "source": [
        "Q1: Explain the following with an example:\n",
        "\n",
        "1) Artificial Intelligence\n",
        "\n",
        "2) Machine Learning\n",
        "\n",
        "3) Deep Learning"
      ],
      "metadata": {
        "id": "lL_TFfzU2pi6"
      }
    },
    {
      "cell_type": "markdown",
      "source": [
        "1) Artificial Intelligence: Artificial intelligence, commonly referred to as AI, is the process of imparting data, information, and human intelligence to machines. The main goal of Artificial Intelligence is to develop self-reliant machines that can think and act like humans. These machines can mimic human behavior and perform tasks by learning and problem-solving. Most of the AI systems simulate natural intelligence to solve complex problems.\n",
        "\n",
        "2) Machine Learning : Machine learning is a discipline of computer science that uses computer algorithms and analytics to build predictive models that can solve business problems.\n",
        "Tom Mitchell’s book on machine learning says “A computer program is said to learn from experience E with respect to some class of tasks T and performance measure P, if its performance at tasks in T, as measured by P, improves with experience E.”\n",
        "\n",
        "3) Deep Learning : Deep learning is a subset of machine learning that deals with algorithms inspired by the structure and function of the human brain. Deep learning algorithms can work with an enormous amount of both structured and unstructured data. Deep learning’s core concept lies in artificial neural networks, which enable machines to make decisions."
      ],
      "metadata": {
        "id": "x-VAFBEA25M6"
      }
    },
    {
      "cell_type": "markdown",
      "source": [
        "Q2: What is supervised learning? List some examples of supervised learning."
      ],
      "metadata": {
        "id": "gJHOMkMH3tS5"
      }
    },
    {
      "cell_type": "markdown",
      "source": [
        "Ans: In supervised learning, the data is already labeled, which means you know the target variable. Using this method of learning, systems can predict future outcomes based on past data. It requires that at least an input and output variable be given to the model for it to be trained.\n",
        "\n",
        "Example:\n",
        "\n",
        "The algorithm is trained using labeled data of dogs and cats. The trained model predicts whether the new image is that of a cat or a dog."
      ],
      "metadata": {
        "id": "vzbMjVsY3zRC"
      }
    },
    {
      "cell_type": "markdown",
      "source": [
        "Q3: What is unsupervised learning? List some examples of unsupervised learning."
      ],
      "metadata": {
        "id": "bAE-QxAj4WvZ"
      }
    },
    {
      "cell_type": "markdown",
      "source": [
        "Ans: Unsupervised learning algorithms employ unlabeled data to discover patterns from the data on their own. The systems are able to identify hidden features from the input data provided. Once the data is more readable, the patterns and similarities become more evident.\n",
        "\n",
        "An example of an unsupervised learning method that trains a model using unlabeled data. In this case, the data consists of different vehicles. The purpose of the model is to classify each kind of vehicle."
      ],
      "metadata": {
        "id": "qboMXCJw4duG"
      }
    },
    {
      "cell_type": "markdown",
      "source": [
        "Q4: What is the difference between AI, ML, DL, and DS?"
      ],
      "metadata": {
        "id": "rYrqh3t84q2a"
      }
    },
    {
      "cell_type": "markdown",
      "source": [
        "Ans : Artificial Intelligence is basically the mechanism to incorporate human intelligence into machines through a set of rules(algorithm). AI is a combination of two words: “Artificial” meaning something made by humans or non-natural things and “Intelligence” meaning the ability to understand or think accordingly. Another definition could be that “AI is basically the study of training your machine(computers) to mimic a human brain and its thinking capabilities”.\n",
        "\n",
        "AI focuses on 3 major aspects(skills): learning, reasoning, and self-correction to obtain the maximum efficiency possible.\n",
        "\n",
        "Machine Learning:\n",
        "\n",
        " Machine Learning is basically the study/process which provides the system(computer) to learn automatically on its own through experiences it had and improve accordingly without being explicitly programmed. ML is an application or subset of AI. ML focuses on the development of programs so that it can access data to use it for itself. The entire process makes observations on data to identify the possible patterns being formed and make better future decisions as per the examples provided to them. The major aim of ML is to allow the systems to learn by themselves through experience without any kind of human intervention or assistance.\n",
        "\n",
        " Deep Learning:\n",
        "\n",
        " Deep Learning is basically a sub-part of the broader family of Machine Learning which makes use of Neural Networks(similar to the neurons working in our brain) to mimic human brain-like behavior. DL algorithms focus on information processing patterns mechanism to possibly identify the patterns just like our human brain does and classifies the information accordingly. DL works on larger sets of data when compared to ML and the prediction mechanism is self-administered by machines."
      ],
      "metadata": {
        "id": "_BhYi31c5GIA"
      }
    },
    {
      "cell_type": "markdown",
      "source": [
        "Q5: What are the main differences between supervised, unsupervised, and semi-supervised learning?"
      ],
      "metadata": {
        "id": "2VAWW2w15K-v"
      }
    },
    {
      "cell_type": "markdown",
      "source": [
        "Ans: Supervised Learning -\n",
        "\n",
        "Labeled dataset is a set of data with predictors (input variables) and output (response/target variables). Supervised learning is where you have such a dataset, and you are searching for the best representative function that link or map predictors to relevant target. With availability of response variables, we are able to compare prediction and actual label, and hence modification applied to reduce misprediction and improve model.\n",
        "\n",
        "Unsupervised Learning -\n",
        "\n",
        "When we have unlabeled data, we are handling unsupervised learning problem. We are clueless whether we are clustering the data points/ tuples correctly. Therefore, challenge for unsupervised learning will be deciding point to stop learning and evaluation of model built. We are not working to do any prediction here, as ‘machine’ is not taught how to predict. Instead, we are exploring and reporting underlying insights and structure of data. Three typical areas applying unsupervised learning is clustering, dimensionality reduction and association analysis.\n",
        "\n",
        "Semi-Supervised Learning -\n",
        "\n",
        "This kind of learning lies in between supervised and unsupervised. It has mixture of labeled and unlabeled data with larger proportion for latter. Data available today is mostly of this form, as it is costly, time consuming, and requires expertise to get a huge data labeled. When such data is given, unsupervised learning technique is used and followed by supervised learning. Data is divided into clusters and missing labels are predicted. It is assumed that the data points in same cluster posing same or similar label, basic way to get the labels is by voting or average value among data falling in same cluster.\n",
        "\n"
      ],
      "metadata": {
        "id": "D3RPVEh25P98"
      }
    },
    {
      "cell_type": "markdown",
      "source": [
        "Q6: What is train, test and validation split? Explain the importance of each term."
      ],
      "metadata": {
        "id": "F4kfQtRd50eF"
      }
    },
    {
      "cell_type": "markdown",
      "source": [
        "Ans: The train-test-validation split is fundamental in machine learning and data analysis, particularly during model development. It involves dividing a dataset into three subsets: training, testing, and validation. Train test split is a model validation process that allows you to check how your model would perform with a new data set.\n",
        "\n",
        "The train validation test split helps assess how well a machine learning model will generalize to new, unseen data. It also prevents overfitting, where a model performs well on the training data but fails to generalize to new instances. By using a validation set, practitioners can iteratively adjust the model’s parameters to achieve better performance on unseen data."
      ],
      "metadata": {
        "id": "1XtrNCHr54Ke"
      }
    },
    {
      "cell_type": "markdown",
      "source": [
        "Q7: How can unsupervised learning be used in anomaly detection?"
      ],
      "metadata": {
        "id": "PEuR9FkX6QYv"
      }
    },
    {
      "cell_type": "markdown",
      "source": [
        "Ans: Anomaly detection is a technique used to identify data points that are significantly different or “outliers” when compared to the majority of the data in a dataset.\n",
        "\n",
        "Anomaly detection is about finding data points that are different from what is considered normal or expected, and it relies on historical data or established knowledge to determine what falls within the usual range. It plays a crucial role in ensuring the quality and security of data in various domains."
      ],
      "metadata": {
        "id": "iFztcJkI6ULX"
      }
    },
    {
      "cell_type": "markdown",
      "source": [
        "Q8: List down some commonly used supervised learning algorithms and unsupervised learning\n",
        "algorithms."
      ],
      "metadata": {
        "id": "dLdgGFfs6u8U"
      }
    },
    {
      "cell_type": "markdown",
      "source": [
        "Ans: Below is the list of some popular unsupervised learning algorithms:\n",
        "1. K-means clustering.\n",
        "K-Means is used for Clustering. KNN is used mostly for Classification, and sometimes even for Regression. 'K' in K-Means is the number of clusters the algorithm is trying to identify/learn from the data. The clusters are often unknown since this is used with Unsupervised learning.\n",
        "3. Hierarchal clustering.\n",
        "Hierarchical clustering is the most popular and widely used method to analyze social network data. In this method, nodes are compared with one another based on their similarity. Larger groups are built by joining groups of nodes based on their similarity.\n",
        "4. Anomaly detection.\n",
        "Anomaly detection is identifying data points in data that don't fit the normal patterns. It can be useful to solve many problems including fraud detection, medical diagnosis,\n",
        "5. Neural Networks.\n",
        "Neural networks can provide robust solutions to problems in a wide range of disciplines, particularly areas involving classification, prediction, filtering, optimization, pattern recognition, and function approximation.\n",
        "6. Principle Component Analysis.\n",
        "Principal Component Analysis (PCA) is one of the most commonly used unsupervised machine learning algorithms across a variety of applications: exploratory data analysis, dimensionality reduction, information compression, data de-noising, and plenty more!\n",
        "7. Independent Component Analysis.\n",
        "One of the most widely-used examples of BSS is to separate voice signals of people speaking at the same time, this is called cocktail party problem . The independent component analysis (ICA) technique is one of the most well-known algorithms which are used for solving this problem.\n",
        "8. Apriori algorithm.\n",
        "To improve the efficiency of level-wise generation of frequent itemsets, an important property is used called Apriori property which helps by reducing the search space. All subsets of a frequent itemset must be frequent(Apriori property). If an itemset is infrequent, all its supersets will be infrequent.\n",
        "\n",
        "The most widely supervised learning algorithms are:\n",
        "1. Support-vector machines.\n",
        "Support Vector Machine” (SVM) is a supervised machine learning algorithm that can be used for both classification or regression challenges. However, it is mostly used in classification problems\n",
        "2. Linear regression.\n",
        "Linear regression analysis is used to predict the value of a variable based on the value of another variable. The variable you want to predict is called the dependent variable. … Linear regression fits a straight line or surface that minimizes the discrepancies between predicted and actual output values\n",
        "To find a best fitting line for a scatter plot.\n",
        "3. Logistic regression.\n",
        "Logistic regression is a powerful machine learning algorithm that utilizes a sigmoid function and works best on binary classification problems, although it can be used on multi-class classification problems through the “one vs. all” method. Logistic regression (despite its name) is not fit for regression tasks.\n",
        "4. Naive Bayes.\n",
        "Naive Bayes uses a similar method to predict the probability of different class based on various attributes. This algorithm is mostly used in text classification and with problems having multiple classes.\n",
        "5. Linear discriminant analysis.\n",
        "Linear discriminant analysis is used as a tool for classification, dimension reduction, and data visualization. … When tackling real-world classification problems, LDA is often the benchmarking method before other more complicated and flexible ones are employed\n",
        "6. Decision trees.\n",
        "Top 5 advantages and disadvantages of Decision Tree Algorithm. Decision Tree is a very popular machine learning algorithm. Decision Tree solves the problem of machine learning by transforming the data into a tree representation. … A decision tree algorithm can be used to solve both regression and classification problems.\n",
        "7. K-nearest neighbor algorithm.\n",
        "The k-nearest neighbors (KNN) algorithm is a simple, easy-to-implement supervised machine learning algorithm that can be used to solve both classification and regression problems.\n",
        "8. Neural networks (Multilayer perceptron)\n",
        "Applications. MLPs are useful in research for their ability to solve problems stochastically, which often allows approximate solutions for extremely complex problems like fitness approximation."
      ],
      "metadata": {
        "id": "wckBAWlI6wqL"
      }
    },
    {
      "cell_type": "code",
      "source": [],
      "metadata": {
        "id": "_IjCdYbk4oO_"
      },
      "execution_count": null,
      "outputs": []
    }
  ]
}