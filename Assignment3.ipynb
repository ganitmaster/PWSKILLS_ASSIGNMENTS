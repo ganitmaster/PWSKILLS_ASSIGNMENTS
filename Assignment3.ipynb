{
  "nbformat": 4,
  "nbformat_minor": 0,
  "metadata": {
    "colab": {
      "provenance": []
    },
    "kernelspec": {
      "name": "python3",
      "display_name": "Python 3"
    },
    "language_info": {
      "name": "python"
    }
  },
  "cells": [
    {
      "cell_type": "markdown",
      "source": [
        "Q1. Which keyword is used to create a function? Create a function to return a list of odd numbers in the\n",
        "range of 1 to 25."
      ],
      "metadata": {
        "id": "uRqDwaqpy7yq"
      }
    },
    {
      "cell_type": "markdown",
      "source": [
        "Ans: \"def\" is a keyword which is used to create a function in Python."
      ],
      "metadata": {
        "id": "zUqL_8XmtldT"
      }
    },
    {
      "cell_type": "code",
      "execution_count": 2,
      "metadata": {
        "id": "hb8sLOwjyyH7",
        "colab": {
          "base_uri": "https://localhost:8080/"
        },
        "outputId": "d2db9d8c-fff1-4528-e13f-3d570772b825"
      },
      "outputs": [
        {
          "output_type": "execute_result",
          "data": {
            "text/plain": [
              "[1, 3, 5, 7, 9, 11, 13, 15, 17, 19, 21, 23, 25]"
            ]
          },
          "metadata": {},
          "execution_count": 2
        }
      ],
      "source": [
        "def odd_numbers():\n",
        "  odd_list=[]\n",
        "  for i in range(1,26):\n",
        "    if i%2!=0:\n",
        "      odd_list.append(i)\n",
        "  return odd_list\n",
        "odd_numbers()"
      ]
    },
    {
      "cell_type": "markdown",
      "source": [
        "Q2. Why *args and **kwargs is used in some functions? Create a function each for *args and **kwargs\n",
        "to demonstrate their use."
      ],
      "metadata": {
        "id": "gYEG9hHXy9n7"
      }
    },
    {
      "cell_type": "markdown",
      "source": [
        "Ans: Using args, you can pass a variable number of positional arguments to a function. The asterisk (*) before \"args\" unpacks the arguments, creating a tuple-like object that can be accessed within the function.\n",
        "\n",
        "Similarly, **kwargs allows you to pass a variable number of keyword arguments to a function. The double asterisks (**) before \"kwargs\" unpack the keyword arguments, creating a dictionary-like object that can be accessed within the function."
      ],
      "metadata": {
        "id": "spCBI_JUz8wm"
      }
    },
    {
      "cell_type": "code",
      "source": [
        "def Sum_of_Num(*numbers):\n",
        "    sum_num=0\n",
        "    for n in numbers:\n",
        "        sum_num+=n\n",
        "    return sum_num\n",
        "\n",
        "print(\"Sum of Numbers:\",Sum_of_Num(1,2,3,4,5))"
      ],
      "metadata": {
        "id": "ukL4ddjDzIAJ",
        "colab": {
          "base_uri": "https://localhost:8080/"
        },
        "outputId": "768e5c5d-69ee-42bb-cf5a-dc7b258c4546"
      },
      "execution_count": 6,
      "outputs": [
        {
          "output_type": "stream",
          "name": "stdout",
          "text": [
            "Sum of Numbers: 15\n"
          ]
        }
      ]
    },
    {
      "cell_type": "code",
      "source": [
        "def makeSentence(**words):\n",
        "    sentence=''\n",
        "    for word in words.values():\n",
        "        sentence+=word\n",
        "    return sentence\n",
        "\n",
        "print('Sentence:', makeSentence(x='Hello ',y='PWSkills! ',a='I ',b='am ', c='Somnath ',d='Tiwari'))"
      ],
      "metadata": {
        "colab": {
          "base_uri": "https://localhost:8080/"
        },
        "id": "_jB06oGa8OB5",
        "outputId": "edc91da1-3064-4212-b23d-4241d5284ff7"
      },
      "execution_count": 11,
      "outputs": [
        {
          "output_type": "stream",
          "name": "stdout",
          "text": [
            "Sentence: Hello PWSkills! I am Somnath Tiwari\n"
          ]
        }
      ]
    },
    {
      "cell_type": "markdown",
      "source": [
        "Q3. What is an iterator in python? Name the method used to initialise the iterator object and the method\n",
        "used for iteration. Use these methods to print the first five elements of the given list [2, 4, 6, 8, 10, 12, 14,\n",
        "16, 18, 20]."
      ],
      "metadata": {
        "id": "TLQs2Jj6zFuJ"
      }
    },
    {
      "cell_type": "markdown",
      "source": [
        "Ans: In Python, an iterator is an object used to iterate across iterable objects such as lists, tuples, dicts, and sets. The iter() method is used to initialize the iterator object. Iteration is accomplished through the usage of the next() method."
      ],
      "metadata": {
        "id": "c_DHJFdO-h3x"
      }
    },
    {
      "cell_type": "code",
      "source": [
        "list1 = [2, 4, 6, 8, 10, 12, 14, 16, 18, 20]\n",
        "iteratar = iter(list1)\n",
        "for i in range(5):\n",
        "  print(next(iteratar))"
      ],
      "metadata": {
        "id": "hdjZL4l7zO37",
        "colab": {
          "base_uri": "https://localhost:8080/"
        },
        "outputId": "4d8272a0-5683-4082-eb00-50e20556191a"
      },
      "execution_count": 13,
      "outputs": [
        {
          "output_type": "stream",
          "name": "stdout",
          "text": [
            "2\n",
            "4\n",
            "6\n",
            "8\n",
            "10\n"
          ]
        }
      ]
    },
    {
      "cell_type": "markdown",
      "source": [
        "Q4. What is a generator function in python? Why yield keyword is used? Give an example of a generator\n",
        "function."
      ],
      "metadata": {
        "id": "HnlDnVOtzRTx"
      }
    },
    {
      "cell_type": "markdown",
      "source": [
        "Ans: Generators are useful when we want to produce a large sequence of values, but we don't want to store all of them in memory at once. In Python, similar to defining a normal function, we can define a generator function using the def keyword, but instead of the return statement we use the yield statement. Here, the yield keyword is used to produce a value from the generator."
      ],
      "metadata": {
        "id": "Utcn0Mtd_75w"
      }
    },
    {
      "cell_type": "code",
      "source": [
        "def my_generator(n):\n",
        "    value = 0\n",
        "    while value < n:\n",
        "        yield value\n",
        "        value += 1\n",
        "\n",
        "for value in my_generator(5):\n",
        "    print(value)"
      ],
      "metadata": {
        "id": "iNfs_lQ-zTrl",
        "colab": {
          "base_uri": "https://localhost:8080/"
        },
        "outputId": "64557cfc-41b7-46bd-96e7-8e21119ad11b"
      },
      "execution_count": 15,
      "outputs": [
        {
          "output_type": "stream",
          "name": "stdout",
          "text": [
            "0\n",
            "1\n",
            "2\n",
            "3\n",
            "4\n"
          ]
        }
      ]
    },
    {
      "cell_type": "markdown",
      "source": [
        "Q5. Create a generator function for prime numbers less than 1000. Use the next() method to print the\n",
        "first 20 prime numbers."
      ],
      "metadata": {
        "id": "pvE1ZAm5zUNT"
      }
    },
    {
      "cell_type": "code",
      "source": [
        "def prime_numbers():\n",
        "    for num in range(2, 1000):\n",
        "        for i in range(2, num):\n",
        "            if num % i == 0:\n",
        "                break\n",
        "        else:\n",
        "            yield num\n",
        "\n",
        "prime_gen = prime_numbers()\n",
        "for i in range(20):\n",
        "    print(next(prime_gen))"
      ],
      "metadata": {
        "id": "24i1ITIDzWdO",
        "colab": {
          "base_uri": "https://localhost:8080/"
        },
        "outputId": "07de5bda-fcb2-4427-c030-2934cb20ac04"
      },
      "execution_count": 18,
      "outputs": [
        {
          "output_type": "stream",
          "name": "stdout",
          "text": [
            "2\n",
            "3\n",
            "5\n",
            "7\n",
            "11\n",
            "13\n",
            "17\n",
            "19\n",
            "23\n",
            "29\n",
            "31\n",
            "37\n",
            "41\n",
            "43\n",
            "47\n",
            "53\n",
            "59\n",
            "61\n",
            "67\n",
            "71\n"
          ]
        }
      ]
    },
    {
      "cell_type": "markdown",
      "source": [
        "Q6. Write a python program to print the first 10 Fibonacci numbers using a while loop."
      ],
      "metadata": {
        "id": "ukNUPCxHzZL2"
      }
    },
    {
      "cell_type": "code",
      "source": [
        "def fibonacci(n):\n",
        "    a, b = 0, 1\n",
        "    while n > 0:\n",
        "        print(a)\n",
        "        a, b = b, a + b\n",
        "        n -= 1\n",
        "\n",
        "fibonacci(10)"
      ],
      "metadata": {
        "id": "p0MM3Ij_zZu2",
        "colab": {
          "base_uri": "https://localhost:8080/"
        },
        "outputId": "d67c5b7d-e70f-4967-9e23-5ed0cad8966b"
      },
      "execution_count": 24,
      "outputs": [
        {
          "output_type": "stream",
          "name": "stdout",
          "text": [
            "0\n",
            "1\n",
            "1\n",
            "2\n",
            "3\n",
            "5\n",
            "8\n",
            "13\n",
            "21\n",
            "34\n"
          ]
        }
      ]
    },
    {
      "cell_type": "markdown",
      "source": [
        "Q7. Write a List Comprehension to iterate through the given string: ‘pwskills’.\n",
        "Expected output: ['p', 'w', 's', 'k', 'i', 'l', 'l', 's']"
      ],
      "metadata": {
        "id": "Uho-zlEfzade"
      }
    },
    {
      "cell_type": "code",
      "source": [
        "def list_comprehension(string):\n",
        "    return [char for char in string]\n",
        "\n",
        "string = 'pwskills'\n",
        "result = list_comprehension(string)\n",
        "print(result)"
      ],
      "metadata": {
        "id": "KhZZbP8NzcrG",
        "colab": {
          "base_uri": "https://localhost:8080/"
        },
        "outputId": "39b3585f-2323-43dd-cbac-4cb782fe337a"
      },
      "execution_count": 26,
      "outputs": [
        {
          "output_type": "stream",
          "name": "stdout",
          "text": [
            "['p', 'w', 's', 'k', 'i', 'l', 'l', 's']\n"
          ]
        }
      ]
    },
    {
      "cell_type": "markdown",
      "source": [
        "Q8. Write a python program to check whether a given number is Palindrome or not using a while loop."
      ],
      "metadata": {
        "id": "xemdiDctzfWA"
      }
    },
    {
      "cell_type": "code",
      "source": [
        "def is_palindrome(num):\n",
        "    original_num = num\n",
        "    reversed_num = 0\n",
        "    while num > 0:\n",
        "        digit = num % 10\n",
        "        reversed_num = reversed_num * 10 + digit\n",
        "        num //= 10\n",
        "\n",
        "    if original_num == reversed_num:\n",
        "        return True\n",
        "    else:\n",
        "        return False\n",
        "\n",
        "num = int(input(\"Enter a number: \"))\n",
        "if is_palindrome(num):\n",
        "    print(f\"{num} is a palindrome.\")\n",
        "else:\n",
        "    print(f\"{num} is not a palindrome.\")"
      ],
      "metadata": {
        "id": "XKWVHBACzfyJ",
        "colab": {
          "base_uri": "https://localhost:8080/"
        },
        "outputId": "2e1847dd-fa57-4035-cea2-457292050606"
      },
      "execution_count": 27,
      "outputs": [
        {
          "output_type": "stream",
          "name": "stdout",
          "text": [
            "Enter a number: 1010101\n",
            "1010101 is a palindrome.\n"
          ]
        }
      ]
    },
    {
      "cell_type": "markdown",
      "source": [
        "Q9. Write a code to print odd numbers from 1 to 100 using list comprehension."
      ],
      "metadata": {
        "id": "zvnvL-CVzgX3"
      }
    },
    {
      "cell_type": "code",
      "source": [
        "def odd_numbers():\n",
        "    return [num for num in range(1, 101) if num % 2 != 0]\n",
        "\n",
        "odd_numbers()"
      ],
      "metadata": {
        "id": "1NUGxz2-zjRU",
        "colab": {
          "base_uri": "https://localhost:8080/"
        },
        "outputId": "469ed9a3-5285-42eb-dd73-728b624ca584"
      },
      "execution_count": 28,
      "outputs": [
        {
          "output_type": "execute_result",
          "data": {
            "text/plain": [
              "[1,\n",
              " 3,\n",
              " 5,\n",
              " 7,\n",
              " 9,\n",
              " 11,\n",
              " 13,\n",
              " 15,\n",
              " 17,\n",
              " 19,\n",
              " 21,\n",
              " 23,\n",
              " 25,\n",
              " 27,\n",
              " 29,\n",
              " 31,\n",
              " 33,\n",
              " 35,\n",
              " 37,\n",
              " 39,\n",
              " 41,\n",
              " 43,\n",
              " 45,\n",
              " 47,\n",
              " 49,\n",
              " 51,\n",
              " 53,\n",
              " 55,\n",
              " 57,\n",
              " 59,\n",
              " 61,\n",
              " 63,\n",
              " 65,\n",
              " 67,\n",
              " 69,\n",
              " 71,\n",
              " 73,\n",
              " 75,\n",
              " 77,\n",
              " 79,\n",
              " 81,\n",
              " 83,\n",
              " 85,\n",
              " 87,\n",
              " 89,\n",
              " 91,\n",
              " 93,\n",
              " 95,\n",
              " 97,\n",
              " 99]"
            ]
          },
          "metadata": {},
          "execution_count": 28
        }
      ]
    },
    {
      "cell_type": "code",
      "source": [],
      "metadata": {
        "id": "GV-8XzRuFsuW"
      },
      "execution_count": null,
      "outputs": []
    }
  ]
}