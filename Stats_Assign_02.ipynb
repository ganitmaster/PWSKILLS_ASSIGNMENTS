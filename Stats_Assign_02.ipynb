{
  "nbformat": 4,
  "nbformat_minor": 0,
  "metadata": {
    "colab": {
      "provenance": []
    },
    "kernelspec": {
      "name": "python3",
      "display_name": "Python 3"
    },
    "language_info": {
      "name": "python"
    }
  },
  "cells": [
    {
      "cell_type": "markdown",
      "source": [
        "Q1. What are the three measures of central tendency?"
      ],
      "metadata": {
        "id": "SLmXsV3vYt2D"
      }
    },
    {
      "cell_type": "markdown",
      "source": [
        "Ans:\n",
        "The three measures of central tendency are:\n",
        "\n",
        "Mean: The arithmetic average of a set of numbers. It is calculated by adding all the numbers together and dividing the sum by the total number of values.\n",
        "\n",
        "Median: The middle value in a data set when the numbers are arranged in ascending or descending order. If the data set has an even number of values, the median is the average of the two middle numbers.\n",
        "\n",
        "Mode: The value that appears most frequently in a data set. A set of data may have one mode, more than one mode (bimodal or multimodal), or no mode if all values occur with the same frequency."
      ],
      "metadata": {
        "id": "1VBkXcB7YtL6"
      }
    },
    {
      "cell_type": "markdown",
      "source": [
        "Q2. What is the difference between the mean, median, and mode? How are they used to measure the\n",
        "central tendency of a dataset?"
      ],
      "metadata": {
        "id": "QcpXgci9Y0-6"
      }
    },
    {
      "cell_type": "markdown",
      "source": [
        "Ans: Mean gives you an overall \"average\" of the dataset. It is best used when the data is symmetrically distributed, as it takes all values into account and balances them.\n",
        "\n",
        "Median gives you the middle point of the dataset, representing the \"center\" when data is arranged in order. It is especially useful when the dataset is skewed or contains outliers, as it is not influenced by extreme values.\n",
        "\n",
        "Mode tells you the most frequent value in the dataset, giving insight into the most common occurrence. It can be used for both numerical and categorical data, but it's not typically used for continuous data unless you're identifying the most frequent ranges or specific repeated values."
      ],
      "metadata": {
        "id": "Pk1R4bd8ZMza"
      }
    },
    {
      "cell_type": "markdown",
      "source": [
        "Q3. Measure the three measures of central tendency for the given height data:\n",
        "[178,177,176,177,178.2,178,175,179,180,175,178.9,176.2,177,172.5,178,176.5]"
      ],
      "metadata": {
        "id": "sXXXpCvTZZvZ"
      }
    },
    {
      "cell_type": "code",
      "execution_count": null,
      "metadata": {
        "colab": {
          "base_uri": "https://localhost:8080/"
        },
        "id": "B_9dQ_EzYU-W",
        "outputId": "ac23f020-2a9a-4e6d-9c33-ee6c64d8e235"
      },
      "outputs": [
        {
          "output_type": "stream",
          "name": "stdout",
          "text": [
            "Mean: 177.01875\n",
            "Median: 177.0\n",
            "Mode: 178\n"
          ]
        }
      ],
      "source": [
        "import statistics\n",
        "\n",
        "# Given data\n",
        "heights = [178, 177, 176, 177, 178.2, 178, 175, 179, 180, 175, 178.9, 176.2, 177, 172.5, 178, 176.5]\n",
        "\n",
        "# Calculate Mean\n",
        "mean = statistics.mean(heights)\n",
        "\n",
        "# Calculate Median\n",
        "median = statistics.median(heights)\n",
        "\n",
        "# Calculate Mode\n",
        "try:\n",
        "    mode = statistics.mode(heights)\n",
        "except statistics.StatisticsError:\n",
        "    mode = \"No unique mode\"  # In case there's no unique mode\n",
        "\n",
        "# Display results\n",
        "print(f\"Mean: {mean}\")\n",
        "print(f\"Median: {median}\")\n",
        "print(f\"Mode: {mode}\")"
      ]
    },
    {
      "cell_type": "markdown",
      "source": [
        "Q4. Find the standard deviation for the given data:\n",
        "\n",
        "[178,177,176,177,178.2,178,175,179,180,175,178.9,176.2,177,172.5,178,176.5]"
      ],
      "metadata": {
        "id": "u7OSrnMHaXLQ"
      }
    },
    {
      "cell_type": "code",
      "source": [
        "stdDev = statistics.stdev(heights)\n",
        "stdDev = round(stdDev,2)\n",
        "print(f\"Standard Deviation: {stdDev}\")"
      ],
      "metadata": {
        "colab": {
          "base_uri": "https://localhost:8080/"
        },
        "id": "AnQ1HzMVaQup",
        "outputId": "f54f5b37-93aa-4c31-9bff-8baaf3716a14"
      },
      "execution_count": null,
      "outputs": [
        {
          "output_type": "stream",
          "name": "stdout",
          "text": [
            "Standard Deviation: 1.85\n"
          ]
        }
      ]
    },
    {
      "cell_type": "markdown",
      "source": [
        "Q5. How are measures of dispersion such as range, variance, and standard deviation used to describe\n",
        "the spread of a dataset? Provide an example."
      ],
      "metadata": {
        "id": "JMMX35ikbTR3"
      }
    },
    {
      "cell_type": "markdown",
      "source": [
        "Ans: Measures of Dispersion (Range, Variance, Standard Deviation) -\n",
        "\n",
        "Range:\n",
        "\n",
        "Definition: Difference between the maximum and minimum values.\n",
        "\n",
        "Interpretation: Provides a quick sense of the spred but is sensitive to outliers.\n",
        "\n",
        "Examples : for [1,5,10][1,5,10], the range is 10-1=9.\n",
        "\n",
        "Variance:\n",
        "\n",
        "Definition: Average of the squared differences from the mean.\n",
        "\n",
        "Interpretation: Measures how data points deviate from the mean, but in squared units.\n",
        "\n",
        "Example: For\n",
        "[\n",
        "1\n",
        ",\n",
        "2\n",
        ",\n",
        "3\n",
        ",\n",
        "4\n",
        ",\n",
        "5\n",
        "]\n",
        "[1,2,3,4,5], variance is 2.\n",
        "\n",
        "Standard Deviation:\n",
        "\n",
        "Definition: Square root of the variance.\n",
        "\n",
        "Interpretation: Gives spread in the same units as the data, making it more interpretable.\n",
        "\n",
        "Example: For\n",
        "[\n",
        "1\n",
        ",\n",
        "2\n",
        ",\n",
        "3\n",
        ",\n",
        "4\n",
        ",\n",
        "5\n",
        "]\n",
        "[1,2,3,4,5], standard deviation is 1.41."
      ],
      "metadata": {
        "id": "TUo34W9sbWfw"
      }
    },
    {
      "cell_type": "markdown",
      "source": [
        "Q6. What is a Venn diagram?"
      ],
      "metadata": {
        "id": "We7HyXDpcLXP"
      }
    },
    {
      "cell_type": "markdown",
      "source": [
        "Ans: A Venn diagram is a visual representation of sets and their relationships to each other. It uses circles (or other shapes) to represent different sets, and the way these circles overlap shows how the sets are related. The overlapping areas of the circles represent elements that are common to the sets, while the areas that do not overlap represent elements that belong only to the specific set."
      ],
      "metadata": {
        "id": "cHqB5twfcK_R"
      }
    },
    {
      "cell_type": "markdown",
      "source": [
        "Q7. For the two given sets A = (2,3,4,5,6,7) & B = (0,2,6,8,10).\n",
        "\n",
        "Find:\n",
        "(i) A ∩ B     (ii) A ⋃ B"
      ],
      "metadata": {
        "id": "kvwui6UdcTC_"
      }
    },
    {
      "cell_type": "code",
      "source": [
        "# Given data\n",
        "A = {2,3,4,5,6,7}\n",
        "B = {0,2,6,8,10}\n",
        "\n",
        "# A ∩ B\n",
        "intrs = A & B\n",
        "print(f\"A ∩ B: {intrs}\")\n",
        "\n",
        "# A ⋃ B\n",
        "union = A | B\n",
        "print(f\"A ⋃ B: {union}\")\n"
      ],
      "metadata": {
        "colab": {
          "base_uri": "https://localhost:8080/"
        },
        "id": "0rOfX7pFeYrl",
        "outputId": "5cd73c43-4a32-494d-a67e-4b43054b9a2c"
      },
      "execution_count": null,
      "outputs": [
        {
          "output_type": "stream",
          "name": "stdout",
          "text": [
            "A ∩ B: {2, 6}\n",
            "A ⋃ B: {0, 2, 3, 4, 5, 6, 7, 8, 10}\n"
          ]
        }
      ]
    },
    {
      "cell_type": "markdown",
      "source": [
        "Q8. What do you understand about skewness in data?"
      ],
      "metadata": {
        "id": "WPNa8EwidF5G"
      }
    },
    {
      "cell_type": "markdown",
      "source": [
        "Ans: Skewness in Data\n",
        "Skewness refers to the degree of asymmetry or lack of symmetry in the distribution of data. It describes the direction in which the data is stretched or \"skewed\" relative to the mean (average).\n",
        "\n",
        "Positive Skew (Right Skew): When the right tail (larger values) of the data is longer or more spread out than the left tail (smaller values).\n",
        "\n",
        "In a positively skewed distribution, the mean is typically greater than the median, and the data has a longer tail on the right side.\n",
        "Example: Income distribution, where most people earn average or lower wages, but a few people earn extremely high wages, pulling the mean to the right.\n",
        "Negative Skew (Left Skew): When the left tail (smaller values) of the data is longer or more spread out than the right tail (larger values).\n",
        "\n",
        "In a negatively skewed distribution, the mean is typically less than the median, and the data has a longer tail on the left side.\n",
        "Example: Age at retirement in some countries, where most people retire at a certain age, but a few people retire much earlier, pulling the mean to the left.\n",
        "Zero Skew (Symmetric Distribution): When the data is perfectly symmetrical, meaning the left and right tails are mirror images. A normal distribution is an example of zero skew.\n",
        "\n",
        "In a symmetric distribution, the mean is approximately equal to the median."
      ],
      "metadata": {
        "id": "5mm-2bZTd4kA"
      }
    },
    {
      "cell_type": "markdown",
      "source": [
        "Q9. If a data is right skewed then what will be the position of median with respect to mean?"
      ],
      "metadata": {
        "id": "fiv623ZufLsF"
      }
    },
    {
      "cell_type": "markdown",
      "source": [
        "Ans: If a dataset is right-skewed (positively skewed), the mean will be greater than the median.\n",
        "\n",
        "Why does this happen?\n",
        "In a right-skewed distribution, the tail on the right side (higher values) is longer. This means that a few extreme high values pull the mean toward the right, making the mean larger than the median.\n",
        "\n",
        "\n",
        "The median, on the other hand, is the middle value of the dataset when it is ordered. It is less affected by extreme values, so it stays closer to the center of the dataset."
      ],
      "metadata": {
        "id": "6_vcBxgzfOy9"
      }
    },
    {
      "cell_type": "markdown",
      "source": [
        "Q10. Explain the difference between covariance and correlation. How are these measures used in\n",
        "statistical analysis?"
      ],
      "metadata": {
        "id": "NR9Ewd1Hfgd1"
      }
    },
    {
      "cell_type": "markdown",
      "source": [
        "Ans: Both covariance and correlation are measures used to describe the relationship between two variables in statistical analysis. However, they differ in how they quantify this relationship and in their scale of measurement.\n",
        "\n",
        "Covariance tells you about the direction of the relationship between two variables but lacks standardization, making it hard to compare across different datasets.\n",
        "\n",
        "Correlation gives you both the strength and direction of the linear relationship and is standardized, making it more interpretable and easier to compare across different datasets.\n",
        "\n",
        "How These Measures Are Used in Statistical Analysis -\n",
        "\n",
        "Covariance: Used in variance-covariance matrices: In multivariate analysis, covariance is used to describe the relationship between multiple variables. The variance-covariance matrix helps in understanding the joint variability of several variables.\n",
        "Portfolio management in finance: Covariance is used to analyze how asset returns move together in portfolio optimization.\n",
        "\n",
        "Correlation:\n",
        "Assessing linear relationships: Correlation is commonly used to determine the strength of the linear relationship between two variables. It's often used in regression analysis to assess the fit of the model.\n",
        "Feature selection: In machine learning, highly correlated features can be removed from the dataset to reduce redundancy and multicollinearity, improving model performance.\n",
        "Comparing different datasets: Since correlation is unitless, it's easier to compare the strength of relationships between different pairs of variables, even if the datasets have different units."
      ],
      "metadata": {
        "id": "H5LLeUqGfvgQ"
      }
    },
    {
      "cell_type": "markdown",
      "source": [
        "Q11. What is the formula for calculating the sample mean? Provide an example calculation for a\n",
        "dataset."
      ],
      "metadata": {
        "id": "khb18eD4gHBP"
      }
    },
    {
      "cell_type": "markdown",
      "source": [
        "Ans: The sample mean is the average of all the data points in a given sample. It is calculated by summing all the values in the sample and then dividing by the number of data points in that sample.\n",
        "\n",
        "The formula for the sample mean\n",
        "\n",
        " ![Screenshot 2025-01-09 201102.png](data:image/png;base64,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)"
      ],
      "metadata": {
        "id": "3_1aANaTgJmf"
      }
    },
    {
      "cell_type": "markdown",
      "source": [
        "Q12. For a normal distribution data what is the relationship between its measure of central tendency?"
      ],
      "metadata": {
        "id": "OkbHLVVNhC2N"
      }
    },
    {
      "cell_type": "markdown",
      "source": [
        "Ans: For a normal distribution (also known as a Gaussian distribution), the relationship between the measures of central tendency — mean, median, and mode — is as follows:\n",
        "\n",
        "Key Relationship:\n",
        "In a perfect normal distribution, all three measures of central tendency are equal:\n",
        "Mean = Median = Mode\n",
        "\n",
        "Explanation:\n",
        "\n",
        "Mean: The mean is the arithmetic average of the data and is located at the center of the distribution.\n",
        "\n",
        "Median: The median is the middle value when the data is sorted in ascending or descending order, and in a perfectly symmetric normal distribution, it coincides with the center.\n",
        "\n",
        "Mode: The mode is the most frequent value in the dataset. In a normal distribution, the peak of the curve represents the mode, which is at the same point as the mean and median."
      ],
      "metadata": {
        "id": "R1ohA8v7hRh7"
      }
    },
    {
      "cell_type": "markdown",
      "source": [
        "Q13. How is covariance different from correlation?"
      ],
      "metadata": {
        "id": "J2kfrBppheSW"
      }
    },
    {
      "cell_type": "markdown",
      "source": [
        "Ans: Both covariance and correlation are measures used to describe the relationship between two variables in statistical analysis. However, they differ in how they quantify this relationship and in their scale of measurement.\n",
        "\n",
        "Covariance tells you about the direction of the relationship between two variables but lacks standardization, making it hard to compare across different datasets.\n",
        "\n",
        "Correlation gives you both the strength and direction of the linear relationship and is standardized, making it more interpretable and easier to compare across different datasets.\n",
        "\n",
        "Covariance: Measures how the two variables move together. If you calculate the covariance, it might yield a positive value, indicating that as\n",
        "𝑋\n",
        "X (experience) increases,\n",
        "𝑌\n",
        "Y (salary) also increases. But the magnitude of this value depends on the units (years and thousands of dollars), so it may be hard to interpret without a standardized scale.\n",
        "\n",
        "Correlation: The correlation will also be positive (since experience and salary move in the same direction), but the value will fall between 0 and 1. For example, a correlation of 0.95 would indicate a very strong linear relationship, but without any units."
      ],
      "metadata": {
        "id": "1Qu8QxOdhpcH"
      }
    },
    {
      "cell_type": "markdown",
      "source": [
        "Q14. How do outliers affect measures of central tendency and dispersion? Provide an example."
      ],
      "metadata": {
        "id": "9tD8ugs7h1JF"
      }
    },
    {
      "cell_type": "markdown",
      "source": [
        "Outliers are data points that significantly differ from the rest of the data in a dataset. These extreme values can have a substantial impact on both measures of central tendency (mean, median, mode) and measures of dispersion (range, variance, standard deviation).Let's discuss how outliers affect these measures:\n",
        "\n",
        "Mean -\tHighly sensitive: Outliers can skew the mean toward the extreme value.\n",
        "\n",
        "Median -\tNot affected: The median is robust and remains unaffected by outliers.\n",
        "\n",
        "Mode -\tNot significantly affected: Unless the outlier is the most frequent value.\n",
        "\n",
        "Range -\tHighly sensitive: Outliers can significantly increase the range.\n",
        "\n",
        "Variance and Standard Deviation -\tHighly sensitive: Outliers can inflate both measures due to their effect on the squared differences from the mean."
      ],
      "metadata": {
        "id": "vv98uKGRh4EQ"
      }
    },
    {
      "cell_type": "code",
      "source": [],
      "metadata": {
        "id": "ZzLG2RySayRh"
      },
      "execution_count": null,
      "outputs": []
    }
  ]
}