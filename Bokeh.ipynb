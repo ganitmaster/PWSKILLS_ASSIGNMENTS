{
  "nbformat": 4,
  "nbformat_minor": 0,
  "metadata": {
    "colab": {
      "provenance": []
    },
    "kernelspec": {
      "name": "python3",
      "display_name": "Python 3"
    },
    "language_info": {
      "name": "python"
    }
  },
  "cells": [
    {
      "cell_type": "markdown",
      "source": [
        "Q1. How can you create a Bokeh plot using Python code?\n"
      ],
      "metadata": {
        "id": "2Uh9GvkXDyk8"
      }
    },
    {
      "cell_type": "code",
      "source": [
        "# Steps:\n",
        "# 1.Install Bokeh: First, install bokeh if not installed\n",
        "!pip install bokeh"
      ],
      "metadata": {
        "colab": {
          "base_uri": "https://localhost:8080/"
        },
        "id": "i89vPAB6EPyR",
        "outputId": "c9476b05-c326-4c00-87b1-e5b9d38dbb5c"
      },
      "execution_count": 2,
      "outputs": [
        {
          "output_type": "stream",
          "name": "stdout",
          "text": [
            "Requirement already satisfied: bokeh in /usr/local/lib/python3.10/dist-packages (3.6.2)\n",
            "Requirement already satisfied: Jinja2>=2.9 in /usr/local/lib/python3.10/dist-packages (from bokeh) (3.1.5)\n",
            "Requirement already satisfied: contourpy>=1.2 in /usr/local/lib/python3.10/dist-packages (from bokeh) (1.3.1)\n",
            "Requirement already satisfied: numpy>=1.16 in /usr/local/lib/python3.10/dist-packages (from bokeh) (1.26.4)\n",
            "Requirement already satisfied: packaging>=16.8 in /usr/local/lib/python3.10/dist-packages (from bokeh) (24.2)\n",
            "Requirement already satisfied: pandas>=1.2 in /usr/local/lib/python3.10/dist-packages (from bokeh) (2.2.2)\n",
            "Requirement already satisfied: pillow>=7.1.0 in /usr/local/lib/python3.10/dist-packages (from bokeh) (11.1.0)\n",
            "Requirement already satisfied: PyYAML>=3.10 in /usr/local/lib/python3.10/dist-packages (from bokeh) (6.0.2)\n",
            "Requirement already satisfied: tornado>=6.2 in /usr/local/lib/python3.10/dist-packages (from bokeh) (6.3.3)\n",
            "Requirement already satisfied: xyzservices>=2021.09.1 in /usr/local/lib/python3.10/dist-packages (from bokeh) (2024.9.0)\n",
            "Requirement already satisfied: MarkupSafe>=2.0 in /usr/local/lib/python3.10/dist-packages (from Jinja2>=2.9->bokeh) (3.0.2)\n",
            "Requirement already satisfied: python-dateutil>=2.8.2 in /usr/local/lib/python3.10/dist-packages (from pandas>=1.2->bokeh) (2.8.2)\n",
            "Requirement already satisfied: pytz>=2020.1 in /usr/local/lib/python3.10/dist-packages (from pandas>=1.2->bokeh) (2024.2)\n",
            "Requirement already satisfied: tzdata>=2022.7 in /usr/local/lib/python3.10/dist-packages (from pandas>=1.2->bokeh) (2024.2)\n",
            "Requirement already satisfied: six>=1.5 in /usr/local/lib/python3.10/dist-packages (from python-dateutil>=2.8.2->pandas>=1.2->bokeh) (1.17.0)\n"
          ]
        }
      ]
    },
    {
      "cell_type": "code",
      "source": [
        "# 2.Write the Python code: After installation, create a Bokeh plot by following these steps:\n",
        "from bokeh.plotting import figure, show\n",
        "from bokeh.io import output_file\n",
        "\n",
        "a = [1,3,5,7,9]\n",
        "b = [0,2,4,6,8]\n",
        "output_file(\"my_plot.html\")\n",
        "# Create a figure object\n",
        "p = figure(title=\"My Bokeh Plot\", x_axis_label=\"X-axis\", y_axis_label=\"Y-axis\")\n",
        "p.line(a,b,legend_label=\"Sample Data\",line_width=3,color=\"red\")\n",
        "show(p)"
      ],
      "metadata": {
        "id": "6rfMz0s6Em4r"
      },
      "execution_count": 5,
      "outputs": []
    },
    {
      "cell_type": "markdown",
      "source": [
        "Q2. What are glyphs in Bokeh, and how can you add them to a Bokeh plot? Explain with an example.\n"
      ],
      "metadata": {
        "id": "9QYxqvgtDyeo"
      }
    },
    {
      "cell_type": "markdown",
      "source": [
        "Ans: In Bokeh, glyphs are visual representations of data in the plot. A glyph can be thought of as a basic geometric object (like a point, line, circle, square, etc.) that is rendered on a plot to represent a set of data. Glyphs allow you to map data to graphical objects, giving you a flexible and powerful way to visualize information.\n",
        "\n",
        "Common Glyphs in Bokeh:\n",
        "\n",
        "Circle: Represents a circle at each data point.\n",
        "\n",
        "Line: Represents a line connecting the points in the data.\n",
        "\n",
        "Square: Represents squares at data points.\n",
        "\n",
        "Triangle: Represents triangles at data points.\n",
        "\n",
        "Bar: Represents bars (for bar plots).\n",
        "\n",
        "Image: Used to display images in a plot."
      ],
      "metadata": {
        "id": "AlsGHgn-Dybk"
      }
    },
    {
      "cell_type": "code",
      "source": [
        "output_file(\"bokeh_glyphs_example.html\")\n",
        "\n",
        "# Add circle glyphs to the plot\n",
        "p.scatter(a,b, marker=\"circle\",size=10, color=\"red\", alpha=0.6, legend_label=\"Circle Glyphs\")\n",
        "\n",
        "# Add square glyphs to the plot\n",
        "p.scatter(a,b, marker=\"square\",size=10, color=\"blue\", alpha=0.6, legend_label=\"Square Glyphs\")\n",
        "\n",
        "# Add a line glyph connecting the points\n",
        "p.line(a,b, line_width=2, color=\"green\", legend_label=\"Line Glyph\")\n",
        "\n",
        "# Customize legend and show the plot\n",
        "p.legend.title = 'Glyphs'\n",
        "p.legend.location = 'top_left'\n",
        "\n",
        "show(p)"
      ],
      "metadata": {
        "id": "Fh1Ky9z4G_sa"
      },
      "execution_count": 7,
      "outputs": []
    },
    {
      "cell_type": "markdown",
      "source": [
        "Q3. How can you customize the appearance of a Bokeh plot, including the axes, title, and legend?"
      ],
      "metadata": {
        "id": "q1HSKzrPDySZ"
      }
    },
    {
      "cell_type": "code",
      "source": [
        "# Customizing the title\n",
        "p.title.text = \"My Custom Plot Title\"\n",
        "p.title.text_font_size = \"16pt\"\n",
        "p.title.text_color = \"navy\"\n",
        "p.title.text_font = \"arial\"\n",
        "p.title.align = \"center\"\n",
        "\n",
        "# Customize x-axis and y-axis labels\n",
        "p.xaxis.axis_label_text_font_size = \"14pt\"\n",
        "p.xaxis.axis_label_text_color = \"red\"\n",
        "p.yaxis.axis_label_text_font_size = \"14pt\"\n",
        "p.yaxis.axis_label_text_color = \"green\"\n",
        "\n",
        "# Customize grid lines and ticks\n",
        "p.xgrid.grid_line_color = \"lightgray\"\n",
        "p.xgrid.grid_line_width = 1\n",
        "p.ygrid.grid_line_color = \"lightblue\"\n",
        "p.ygrid.grid_line_width = 2\n",
        "\n",
        "# Customize the legend\n",
        "p.legend.title = \"Legend Title\"\n",
        "p.legend.location = \"top_left\"\n",
        "p.legend.label_text_font_size = \"12pt\"\n",
        "p.legend.background_fill_color = \"lightgray\"\n",
        "p.legend.border_line_width = 2"
      ],
      "metadata": {
        "id": "JfnEbX9bJhzC"
      },
      "execution_count": 9,
      "outputs": []
    },
    {
      "cell_type": "markdown",
      "source": [
        "Q4. What is a Bokeh server, and how can you use it to create interactive plots that can be updated in\n",
        "real time?"
      ],
      "metadata": {
        "id": "mRi6E84LD8uY"
      }
    },
    {
      "cell_type": "markdown",
      "source": [
        "Ans: A Bokeh Server is a tool provided by the Bokeh library that allows you to create interactive, real-time updating plots and dashboards. It provides a way to build and deploy interactive applications in Python where the plot can be updated dynamically based on user interaction or live data. With the Bokeh Server, you can:\n",
        "\n",
        "Build interactive visualizations that respond to user input (e.g., sliders, buttons, or other widgets).\n",
        "Update the plot dynamically in response to events such as changes in data or user input.\n",
        "\n",
        "Deploy real-time applications like dashboards or monitoring tools.\n",
        "Bokeh Server enables you to create applications where you have a backend Python process running, allowing for continuous updates to your plots.\n",
        "\n",
        "The Bokeh Server runs a Python script on a server, and the plots are rendered in a browser. The server continuously communicates with the browser, updating the plot when necessary.\n",
        "\n",
        "Key Features of Bokeh Server:\n",
        "\n",
        "Reactive: Plot updates are triggered by changes in Python variables.\n",
        "\n",
        "Interactive Widgets: You can add widgets such as sliders, buttons, and text inputs to the plot.\n",
        "\n",
        "Streaming Data: Bokeh Server supports live data streaming, meaning you can update plots with real-time data."
      ],
      "metadata": {
        "id": "mO8-jX1BEBDX"
      }
    },
    {
      "cell_type": "markdown",
      "source": [
        "Q5. How can you embed a Bokeh plot into a web page or dashboard using Flask or Django?"
      ],
      "metadata": {
        "id": "77ftTFFbEAx6"
      }
    },
    {
      "cell_type": "markdown",
      "source": [
        "Ans: In Flask:\n",
        "\n",
        "Install Flask and Bokeh: pip install flask bokeh\n",
        "Create a Bokeh plot.\n",
        "\n",
        "Use components(plot) to generate the plot's HTML and JavaScript.\n",
        "\n",
        "Pass the script and div to an HTML template using render_template.\n",
        "\n",
        "Run the Flask app and view the plot in the browser.\n",
        "\n",
        "In Django:\n",
        "\n",
        "Install Django and Bokeh: pip install django bokeh\n",
        "Create a Bokeh plot in a view.\n",
        "\n",
        "Use components(plot) to generate the plot's HTML and JavaScript.\n",
        "\n",
        "Pass the components to a Django template and render it.\n",
        "\n",
        "Run the Django app and view the plot in the browser."
      ],
      "metadata": {
        "id": "SppfBlEtEDJ9"
      }
    },
    {
      "cell_type": "code",
      "execution_count": null,
      "metadata": {
        "id": "dkRRiCT0DxXb"
      },
      "outputs": [],
      "source": []
    }
  ]
}