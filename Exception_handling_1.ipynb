{
  "nbformat": 4,
  "nbformat_minor": 0,
  "metadata": {
    "colab": {
      "provenance": []
    },
    "kernelspec": {
      "name": "python3",
      "display_name": "Python 3"
    },
    "language_info": {
      "name": "python"
    }
  },
  "cells": [
    {
      "cell_type": "markdown",
      "source": [
        "Q1. What is an exception in python? Write the difference between Exceptions and syntax errors."
      ],
      "metadata": {
        "id": "zq65faE4ZAvU"
      }
    },
    {
      "cell_type": "markdown",
      "source": [
        "Ans: An Exception is an error that happens during the execution of a program. Whenever there is an error, Python generates an exception that could be handled. It basically prevents the program from getting crashed.\n",
        "\n",
        "Syntax error refers to an error in the syntax or structure of the code, meaning that the code is not written according to the rules of the programming language. These errors are usually caught by the compiler or interpreter before the code is executed, and they prevent the code from being compiled or run. For example, a missing parenthesis in a function call in Python would result in a syntax error.\n",
        "\n",
        "On the other hand, an exception refers to an error that occurs during the execution of a program. These errors are not caught by the compiler or interpreter and can cause the program to terminate or behave unexpectedly. Exceptions can occur due to a variety of reasons, such as division by zero, trying to access an array element that does not exist, or attempting to open a file that does not exist."
      ],
      "metadata": {
        "id": "S9YwQSmFZg3Y"
      }
    },
    {
      "cell_type": "markdown",
      "source": [
        "Q2. What happens when an exception is not handeld? Explain with an example."
      ],
      "metadata": {
        "id": "XkogjxNCa0vZ"
      }
    },
    {
      "cell_type": "markdown",
      "source": [
        "Ans: If no exception handler for a given exception is present, the program stops executing with an error message.\n",
        "\n",
        "Don't catch an exception unless you can handle it and leave the application in a known state. If you catch System.Exception, rethrow it using the throw keyword at the end of the catch block."
      ],
      "metadata": {
        "id": "MX_eN5AmbIpd"
      }
    },
    {
      "cell_type": "code",
      "execution_count": 2,
      "metadata": {
        "colab": {
          "base_uri": "https://localhost:8080/",
          "height": 297
        },
        "id": "ea-Rv2b6Y_ON",
        "outputId": "29104c6d-634f-497a-cb4a-7fd8f73b87f9"
      },
      "outputs": [
        {
          "output_type": "error",
          "ename": "ZeroDivisionError",
          "evalue": "division by zero",
          "traceback": [
            "\u001b[0;31m---------------------------------------------------------------------------\u001b[0m",
            "\u001b[0;31mZeroDivisionError\u001b[0m                         Traceback (most recent call last)",
            "\u001b[0;32m<ipython-input-2-b4ed328ef992>\u001b[0m in \u001b[0;36m<cell line: 5>\u001b[0;34m()\u001b[0m\n\u001b[1;32m      3\u001b[0m     \u001b[0;32mreturn\u001b[0m \u001b[0mreci\u001b[0m\u001b[0;34m\u001b[0m\u001b[0;34m\u001b[0m\u001b[0m\n\u001b[1;32m      4\u001b[0m \u001b[0mreciprocal\u001b[0m\u001b[0;34m(\u001b[0m\u001b[0;36m5\u001b[0m\u001b[0;34m)\u001b[0m\u001b[0;34m\u001b[0m\u001b[0;34m\u001b[0m\u001b[0m\n\u001b[0;32m----> 5\u001b[0;31m \u001b[0mreciprocal\u001b[0m\u001b[0;34m(\u001b[0m\u001b[0;36m0\u001b[0m\u001b[0;34m)\u001b[0m\u001b[0;34m\u001b[0m\u001b[0;34m\u001b[0m\u001b[0m\n\u001b[0m",
            "\u001b[0;32m<ipython-input-2-b4ed328ef992>\u001b[0m in \u001b[0;36mreciprocal\u001b[0;34m(x)\u001b[0m\n\u001b[1;32m      1\u001b[0m \u001b[0;32mdef\u001b[0m \u001b[0mreciprocal\u001b[0m\u001b[0;34m(\u001b[0m\u001b[0mx\u001b[0m\u001b[0;34m)\u001b[0m\u001b[0;34m:\u001b[0m\u001b[0;34m\u001b[0m\u001b[0;34m\u001b[0m\u001b[0m\n\u001b[0;32m----> 2\u001b[0;31m     \u001b[0mreci\u001b[0m \u001b[0;34m=\u001b[0m \u001b[0;36m1\u001b[0m\u001b[0;34m/\u001b[0m\u001b[0mx\u001b[0m\u001b[0;34m\u001b[0m\u001b[0;34m\u001b[0m\u001b[0m\n\u001b[0m\u001b[1;32m      3\u001b[0m     \u001b[0;32mreturn\u001b[0m \u001b[0mreci\u001b[0m\u001b[0;34m\u001b[0m\u001b[0;34m\u001b[0m\u001b[0m\n\u001b[1;32m      4\u001b[0m \u001b[0mreciprocal\u001b[0m\u001b[0;34m(\u001b[0m\u001b[0;36m5\u001b[0m\u001b[0;34m)\u001b[0m\u001b[0;34m\u001b[0m\u001b[0;34m\u001b[0m\u001b[0m\n\u001b[1;32m      5\u001b[0m \u001b[0mreciprocal\u001b[0m\u001b[0;34m(\u001b[0m\u001b[0;36m0\u001b[0m\u001b[0;34m)\u001b[0m\u001b[0;34m\u001b[0m\u001b[0;34m\u001b[0m\u001b[0m\n",
            "\u001b[0;31mZeroDivisionError\u001b[0m: division by zero"
          ]
        }
      ],
      "source": [
        "# Examppe - When an exception is not handeld\n",
        "def reciprocal(x):\n",
        "    reci = 1/x\n",
        "    return reci\n",
        "reciprocal(5)\n",
        "reciprocal(0)"
      ]
    },
    {
      "cell_type": "markdown",
      "source": [
        "Q3. Which Python statememts are used to catch and handle exceptions? Explain with an example."
      ],
      "metadata": {
        "id": "X--XhavBfLE3"
      }
    },
    {
      "cell_type": "markdown",
      "source": [
        "Ans: Try and except statements are used to catch and handle exceptions in Python. Statements that can raise exceptions are kept inside the try clause and the statements that handle the exception are written inside except clause.\n",
        "\n",
        "Example: Here we are trying to access the array element whose index is out of bound and handle the corresponding exception."
      ],
      "metadata": {
        "id": "PqTqVgZNfdkl"
      }
    },
    {
      "cell_type": "code",
      "source": [
        "a = [10, 20, 30]\n",
        "try:\n",
        "    print (\"Second element = %d\" %(a[1]))\n",
        "\n",
        "    print (\"Fourth element = %d\" %(a[3]))\n",
        "\n",
        "except:\n",
        "    print (\"An error occurred : Trying to access the array element whose index is out of bound.\")"
      ],
      "metadata": {
        "colab": {
          "base_uri": "https://localhost:8080/"
        },
        "id": "i-dY2sslebt9",
        "outputId": "0cd2cb4d-1f6c-4969-e2be-6a6ca7c5b662"
      },
      "execution_count": 5,
      "outputs": [
        {
          "output_type": "stream",
          "name": "stdout",
          "text": [
            "Second element = 20\n",
            "An error occurred : Trying to access the array element whose index is out of bound.\n"
          ]
        }
      ]
    },
    {
      "cell_type": "markdown",
      "source": [
        "Q4. Explain with an example -\n",
        "\n",
        "- try and else\n",
        "- finally\n",
        "- raise"
      ],
      "metadata": {
        "id": "8n4IYwCegO7M"
      }
    },
    {
      "cell_type": "markdown",
      "source": [
        "Ans: Try: This block will test the excepted error to occur\n",
        "\n",
        "Except:  Here you can handle the error\n",
        "\n",
        "Else: If there is no exception then this block will be executed"
      ],
      "metadata": {
        "id": "ItaR22rXgO0e"
      }
    },
    {
      "cell_type": "code",
      "source": [
        "def reciprocal(num):\n",
        "  try:\n",
        "    reci = 1/num\n",
        "  except ZeroDivisionError:\n",
        "    print(\"Error occured: Can't devide by zero!\")\n",
        "  else:\n",
        "    print(reci)\n",
        "reciprocal(5)\n",
        "reciprocal(0)"
      ],
      "metadata": {
        "colab": {
          "base_uri": "https://localhost:8080/"
        },
        "id": "l09PZWrPgErl",
        "outputId": "2a81332f-5309-4f3b-d739-56d947052da7"
      },
      "execution_count": 9,
      "outputs": [
        {
          "output_type": "stream",
          "name": "stdout",
          "text": [
            "0.2\n",
            "Error occured: Can't devide by zero!\n"
          ]
        }
      ]
    },
    {
      "cell_type": "markdown",
      "source": [
        "Finally: Finally block always gets executed either exception is generated or not"
      ],
      "metadata": {
        "id": "wkYMJZdeiR1I"
      }
    },
    {
      "cell_type": "code",
      "source": [
        "def reciprocal(num):\n",
        "  try:\n",
        "    reci = 1/num\n",
        "    print(reci)\n",
        "  except ZeroDivisionError:\n",
        "    print(\"Error occured: Can't devide by zero!\")\n",
        "  finally:\n",
        "    print(\"Exception Handeled!\")\n",
        "reciprocal(0)"
      ],
      "metadata": {
        "colab": {
          "base_uri": "https://localhost:8080/"
        },
        "id": "b3SKEl0Hh7J1",
        "outputId": "1c84dfc9-977a-484b-a78f-c3a97b277d6d"
      },
      "execution_count": 13,
      "outputs": [
        {
          "output_type": "stream",
          "name": "stdout",
          "text": [
            "Error occured: Can't devide by zero!\n",
            "Exception Handeled!\n"
          ]
        }
      ]
    },
    {
      "cell_type": "markdown",
      "source": [
        "Raise: The raise keyword raises an error and stops the control flow of the program. It is used to bring up the current exception in an exception handler so that it can be handled further up the call stack."
      ],
      "metadata": {
        "id": "amt7SgN2jhb3"
      }
    },
    {
      "cell_type": "code",
      "source": [
        "str1 = \"Hello\"\n",
        "try:\n",
        "  num = int(str1)\n",
        "except ValueError:\n",
        "  raise ValueError(\"Error occured: Strings can't be converted into integers!\")"
      ],
      "metadata": {
        "colab": {
          "base_uri": "https://localhost:8080/",
          "height": 349
        },
        "id": "0PAviUAaioDB",
        "outputId": "e7580bce-c0b8-4c67-f3e1-b3466295023f"
      },
      "execution_count": 14,
      "outputs": [
        {
          "output_type": "error",
          "ename": "ValueError",
          "evalue": "Error occured: Strings can't be converted into integers!",
          "traceback": [
            "\u001b[0;31m---------------------------------------------------------------------------\u001b[0m",
            "\u001b[0;31mValueError\u001b[0m                                Traceback (most recent call last)",
            "\u001b[0;32m<ipython-input-14-86f8720869f3>\u001b[0m in \u001b[0;36m<cell line: 2>\u001b[0;34m()\u001b[0m\n\u001b[1;32m      2\u001b[0m \u001b[0;32mtry\u001b[0m\u001b[0;34m:\u001b[0m\u001b[0;34m\u001b[0m\u001b[0;34m\u001b[0m\u001b[0m\n\u001b[0;32m----> 3\u001b[0;31m   \u001b[0mnum\u001b[0m \u001b[0;34m=\u001b[0m \u001b[0mint\u001b[0m\u001b[0;34m(\u001b[0m\u001b[0mstr1\u001b[0m\u001b[0;34m)\u001b[0m\u001b[0;34m\u001b[0m\u001b[0;34m\u001b[0m\u001b[0m\n\u001b[0m\u001b[1;32m      4\u001b[0m \u001b[0;32mexcept\u001b[0m \u001b[0mValueError\u001b[0m\u001b[0;34m:\u001b[0m\u001b[0;34m\u001b[0m\u001b[0;34m\u001b[0m\u001b[0m\n",
            "\u001b[0;31mValueError\u001b[0m: invalid literal for int() with base 10: 'Hello'",
            "\nDuring handling of the above exception, another exception occurred:\n",
            "\u001b[0;31mValueError\u001b[0m                                Traceback (most recent call last)",
            "\u001b[0;32m<ipython-input-14-86f8720869f3>\u001b[0m in \u001b[0;36m<cell line: 2>\u001b[0;34m()\u001b[0m\n\u001b[1;32m      3\u001b[0m   \u001b[0mnum\u001b[0m \u001b[0;34m=\u001b[0m \u001b[0mint\u001b[0m\u001b[0;34m(\u001b[0m\u001b[0mstr1\u001b[0m\u001b[0;34m)\u001b[0m\u001b[0;34m\u001b[0m\u001b[0;34m\u001b[0m\u001b[0m\n\u001b[1;32m      4\u001b[0m \u001b[0;32mexcept\u001b[0m \u001b[0mValueError\u001b[0m\u001b[0;34m:\u001b[0m\u001b[0;34m\u001b[0m\u001b[0;34m\u001b[0m\u001b[0m\n\u001b[0;32m----> 5\u001b[0;31m   \u001b[0;32mraise\u001b[0m \u001b[0mValueError\u001b[0m\u001b[0;34m(\u001b[0m\u001b[0;34m\"Error occured: Strings can't be converted into integers!\"\u001b[0m\u001b[0;34m)\u001b[0m\u001b[0;34m\u001b[0m\u001b[0;34m\u001b[0m\u001b[0m\n\u001b[0m",
            "\u001b[0;31mValueError\u001b[0m: Error occured: Strings can't be converted into integers!"
          ]
        }
      ]
    },
    {
      "cell_type": "markdown",
      "source": [
        "Q5. What are Custom Exceptions on python? Why do we need Custom Exceptions? Explain with an example."
      ],
      "metadata": {
        "id": "lhxHuCTqkj8v"
      }
    },
    {
      "cell_type": "markdown",
      "source": [
        "Ans: In Python, we can define custom exceptions by creating a new class that is derived from the built-in Exception class.\n",
        "\n",
        "- When we are developing a large Python program, it is a good practice to place all the user-defined exceptions that our program raises in a separate file.\n",
        "\n",
        "- Many standard modules define their exceptions separately as exceptions.py or errors.py (generally but not always)."
      ],
      "metadata": {
        "id": "HiPyRf-Clgou"
      }
    },
    {
      "cell_type": "code",
      "source": [
        "# define Python user-defined exceptions\n",
        "class InvalidAgeException(Exception):\n",
        "    \"Raised when the input value is less than 18\"\n",
        "    pass\n",
        "\n",
        "# you need to guess this number\n",
        "number = 18\n",
        "\n",
        "try:\n",
        "    input_num = int(input(\"Enter a number: \"))\n",
        "    if input_num < number:\n",
        "        raise InvalidAgeException\n",
        "    else:\n",
        "        print(\"Eligible to Vote\")\n",
        "\n",
        "except InvalidAgeException:\n",
        "    print(\"Exception occurred: Invalid Age\")"
      ],
      "metadata": {
        "colab": {
          "base_uri": "https://localhost:8080/"
        },
        "id": "2zlG3-d0kP8A",
        "outputId": "1f9a2eb1-ae6b-4c05-a712-f585396a9038"
      },
      "execution_count": 15,
      "outputs": [
        {
          "output_type": "stream",
          "name": "stdout",
          "text": [
            "Enter a number: 15\n",
            "Exception occurred: Invalid Age\n"
          ]
        }
      ]
    },
    {
      "cell_type": "markdown",
      "source": [
        "Q6. Create a custom exception class. Use this class to handle an exception."
      ],
      "metadata": {
        "id": "KEgGjMQemlAt"
      }
    },
    {
      "cell_type": "code",
      "source": [
        "class SalaryNotInRangeError(Exception):\n",
        "    \"\"\"Exception raised for errors in the input salary.\n",
        "\n",
        "    Attributes:\n",
        "        salary -- input salary which caused the error\n",
        "        message -- explanation of the error\n",
        "    \"\"\"\n",
        "\n",
        "    def __init__(self, salary, message=\"Salary is not in (5000, 15000) range\"):\n",
        "        self.salary = salary\n",
        "        self.message = message\n",
        "        super().__init__(self.message)\n",
        "\n",
        "\n",
        "salary = int(input(\"Enter salary amount: \"))\n",
        "if not 5000 < salary < 15000:\n",
        "    raise SalaryNotInRangeError(salary)"
      ],
      "metadata": {
        "colab": {
          "base_uri": "https://localhost:8080/",
          "height": 193
        },
        "id": "G-G7LkEpmO0R",
        "outputId": "d3db362d-7295-4005-8551-70382dd3d5e9"
      },
      "execution_count": 16,
      "outputs": [
        {
          "name": "stdout",
          "output_type": "stream",
          "text": [
            "Enter salary amount: 4000\n"
          ]
        },
        {
          "output_type": "error",
          "ename": "SalaryNotInRangeError",
          "evalue": "Salary is not in (5000, 15000) range",
          "traceback": [
            "\u001b[0;31m---------------------------------------------------------------------------\u001b[0m",
            "\u001b[0;31mSalaryNotInRangeError\u001b[0m                     Traceback (most recent call last)",
            "\u001b[0;32m<ipython-input-16-6ab0f28c63a7>\u001b[0m in \u001b[0;36m<cell line: 16>\u001b[0;34m()\u001b[0m\n\u001b[1;32m     15\u001b[0m \u001b[0msalary\u001b[0m \u001b[0;34m=\u001b[0m \u001b[0mint\u001b[0m\u001b[0;34m(\u001b[0m\u001b[0minput\u001b[0m\u001b[0;34m(\u001b[0m\u001b[0;34m\"Enter salary amount: \"\u001b[0m\u001b[0;34m)\u001b[0m\u001b[0;34m)\u001b[0m\u001b[0;34m\u001b[0m\u001b[0;34m\u001b[0m\u001b[0m\n\u001b[1;32m     16\u001b[0m \u001b[0;32mif\u001b[0m \u001b[0;32mnot\u001b[0m \u001b[0;36m5000\u001b[0m \u001b[0;34m<\u001b[0m \u001b[0msalary\u001b[0m \u001b[0;34m<\u001b[0m \u001b[0;36m15000\u001b[0m\u001b[0;34m:\u001b[0m\u001b[0;34m\u001b[0m\u001b[0;34m\u001b[0m\u001b[0m\n\u001b[0;32m---> 17\u001b[0;31m     \u001b[0;32mraise\u001b[0m \u001b[0mSalaryNotInRangeError\u001b[0m\u001b[0;34m(\u001b[0m\u001b[0msalary\u001b[0m\u001b[0;34m)\u001b[0m\u001b[0;34m\u001b[0m\u001b[0;34m\u001b[0m\u001b[0m\n\u001b[0m",
            "\u001b[0;31mSalaryNotInRangeError\u001b[0m: Salary is not in (5000, 15000) range"
          ]
        }
      ]
    },
    {
      "cell_type": "code",
      "source": [
        "class SalaryNotInRangeError(Exception):\n",
        "    \"\"\"Exception raised for errors in the input salary.\n",
        "\n",
        "    Attributes:\n",
        "        salary -- input salary which caused the error\n",
        "        message -- explanation of the error\n",
        "    \"\"\"\n",
        "\n",
        "    def __init__(self, salary, message=\"Salary is not in (5000, 15000) range\"):\n",
        "        self.salary = salary\n",
        "        self.message = message\n",
        "        super().__init__(self.message)\n",
        "\n",
        "\n",
        "salary = int(input(\"Enter salary amount: \"))\n",
        "if not 5000 < salary < 15000:\n",
        "    raise SalaryNotInRangeError(salary)"
      ],
      "metadata": {
        "colab": {
          "base_uri": "https://localhost:8080/"
        },
        "id": "mTdOtSNbm-Ax",
        "outputId": "d838c959-abec-4623-8382-145f851b5d23"
      },
      "execution_count": 17,
      "outputs": [
        {
          "name": "stdout",
          "output_type": "stream",
          "text": [
            "Enter salary amount: 10000\n"
          ]
        }
      ]
    },
    {
      "cell_type": "code",
      "source": [],
      "metadata": {
        "id": "qK-T59QLnNNp"
      },
      "execution_count": null,
      "outputs": []
    }
  ]
}