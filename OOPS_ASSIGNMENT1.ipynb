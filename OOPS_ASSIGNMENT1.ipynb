{
  "nbformat": 4,
  "nbformat_minor": 0,
  "metadata": {
    "colab": {
      "provenance": []
    },
    "kernelspec": {
      "name": "python3",
      "display_name": "Python 3"
    },
    "language_info": {
      "name": "python"
    }
  },
  "cells": [
    {
      "cell_type": "markdown",
      "source": [
        "Q1. Explain Class and Object with respect to Object-Oriented Programming. Give a suitable example."
      ],
      "metadata": {
        "id": "-U8Y4jp6gxCb"
      }
    },
    {
      "cell_type": "markdown",
      "source": [
        "**Ans: Class:** A class is a user-defined blueprint or prototype from which objects are created. Classes provide a means of bundling data and functionality together. Creating a new class creates a new type of object, allowing new instances of that type to be made. Each class instance can have attributes attached to it for maintaining its state. Class instances can also have methods (defined by their class) for modifying their state.\n",
        "\n",
        "**Object:** An Object is an instance of a Class. A class is like a blueprint while an instance is a copy of the class with actual values."
      ],
      "metadata": {
        "id": "Kgw1K8s70mRE"
      }
    },
    {
      "cell_type": "code",
      "execution_count": 1,
      "metadata": {
        "id": "hGGIAMCXgo0L",
        "colab": {
          "base_uri": "https://localhost:8080/"
        },
        "outputId": "bf19b335-8dbe-4f92-e887-12e35ba56ec4"
      },
      "outputs": [
        {
          "output_type": "execute_result",
          "data": {
            "text/plain": [
              "(1, 'Ankit Patel', 21)"
            ]
          },
          "metadata": {},
          "execution_count": 1
        }
      ],
      "source": [
        "#Creating a class named StudentDetails\n",
        "class StudentDetails:\n",
        "  def __init__(self,roll_no,name,age):\n",
        "    self.roll_no = roll_no\n",
        "    self.name = name\n",
        "    self.age = age\n",
        "  def display(self):\n",
        "    return self.roll_no,self.name,self.age\n",
        "#Creating an object of student\n",
        "stu1 = StudentDetails(1,\"Ankit Patel\",21)\n",
        "stu1.display()"
      ]
    },
    {
      "cell_type": "markdown",
      "source": [
        "Q2. Name the four pillars of OOPs."
      ],
      "metadata": {
        "id": "xQ7zAuvYg0JO"
      }
    },
    {
      "cell_type": "markdown",
      "source": [
        "**Ans:** The four pillars of Object-Oriented Programming (OOPS) are:\n",
        "\n",
        "**Abstraction** - Abstraction means displaying only basic information and hiding the details. Data abstraction refers to providing only necessary information about the data to the outside world, hiding the background info or implementation.\n",
        "\n",
        "**Encapsulation** -  In object-oriented programming, Encapsulation is defined as binding together the data and the functions that manipulate them.\n",
        "\n",
        "**Inheritance** - Inheritance is the process in which two classes have a relationship with each other, and objects of one class acquire properties and features of the other class. The class which inherits the features is known as the child class, and the class whose features it inherited is called the parent class.\n",
        "\n",
        "**Polymorphism** - The word polymorphism means having many forms. It is the ability to take more than one form. It is a feature that provides a function or an operator with more than one definition. It can be implemented using function overloading, operator overload, function overriding, virtual function. An operation may show off different behaviors at different times."
      ],
      "metadata": {
        "id": "Y7mzssIV3JF8"
      }
    },
    {
      "cell_type": "markdown",
      "source": [
        "Q3. Explain why the __init__() function is used. Give a suitable example."
      ],
      "metadata": {
        "id": "SHdC_Ffsg4Sg"
      }
    },
    {
      "cell_type": "markdown",
      "source": [
        "**Ans:** __init__ method in Python is used to initialize objects of a class. It is also called a constructor.The task of constructors is to initialize(assign values) to the data members of the class when an object of the class is created.\n",
        "\n",
        "Like methods, a constructor also contains a collection of statements(i.e. instructions) that are executed at the time of Object creation. It is run as soon as an object of a class is instantiated.\n",
        "\n",
        "The method is useful to do any initialization you want to do with your object."
      ],
      "metadata": {
        "id": "dFAJuZrH4bne"
      }
    },
    {
      "cell_type": "code",
      "source": [
        "class Person:\n",
        "  def __init__(self,name):\n",
        "    self.name = name\n",
        "  def say_hello(self):\n",
        "    print(\"Hello, My name is \",self.name)\n",
        "\n",
        "p1 = Person(\"Somnath Tiwari\")\n",
        "p1.say_hello()"
      ],
      "metadata": {
        "id": "9V95pCHcg43p",
        "colab": {
          "base_uri": "https://localhost:8080/"
        },
        "outputId": "7352795f-bf4c-4654-89fa-ff8780c54ab0"
      },
      "execution_count": 1,
      "outputs": [
        {
          "output_type": "stream",
          "name": "stdout",
          "text": [
            "Hello, My name is  Somnath Tiwari\n"
          ]
        }
      ]
    },
    {
      "cell_type": "markdown",
      "source": [
        "Q4. Why self is used in OOPs?"
      ],
      "metadata": {
        "id": "KW0CQz3gg5oL"
      }
    },
    {
      "cell_type": "markdown",
      "source": [
        "Ans: The use of “self” in Python is important for several reasons:\n",
        "\n",
        "**Accessing instance variables and methods:** “self” is used to access and manipulate the instance variables and methods within a class. Without “self,” it would be impossible to differentiate between instance variables and class variables or methods.\n",
        "\n",
        "**Creating new instance variables:** “self” can also be used to create new instance variables dynamically, which can be useful in some situations.\n",
        "\n",
        "**Instance method parameter:** In Python, instance methods take “self” as the first parameter, which is used to pass the instance to the method. This allows the method to access and manipulate the instance variables and methods within the class.\n",
        "\n",
        "**Object-oriented programming:** The use of “self” is fundamental to object-oriented programming in Python. In OOP, objects are created from classes, and “self” is used to refer to the specific instance of the class being manipulated."
      ],
      "metadata": {
        "id": "0g5qxPGr5yUY"
      }
    },
    {
      "cell_type": "markdown",
      "source": [
        "Q5. What is inheritance? Give an example for each type of inheritance."
      ],
      "metadata": {
        "id": "Kb8wfDpzg77J"
      }
    },
    {
      "cell_type": "markdown",
      "source": [
        "**Ans: Inheritance:** Inheritance is defined as the mechanism of inheriting the properties of the base class to the child class.\n",
        "\n",
        "**Types of Inheritance in Python**\n",
        "\n",
        "**Single Inheritance:**\n",
        "Single inheritance enables a derived class to inherit properties from a single parent class, thus enabling code reusability and the addition of new features to existing code."
      ],
      "metadata": {
        "id": "hGV7aUDI6j7O"
      }
    },
    {
      "cell_type": "code",
      "source": [
        "class Parent:\n",
        "  def func1(self):\n",
        "    print(\"This is my Parent Class\")\n",
        "class Child(Parent):\n",
        "  def func2(self):\n",
        "    print(\"This is my child class\")\n",
        "# Creating an object of child class\n",
        "ob1 = Child()\n",
        "# Accessing the method of parent class\n",
        "ob1.func1()\n",
        "ob1.func2()"
      ],
      "metadata": {
        "colab": {
          "base_uri": "https://localhost:8080/"
        },
        "id": "pdSauga38EyG",
        "outputId": "1ff288aa-c474-4939-aeed-d104def531ac"
      },
      "execution_count": 2,
      "outputs": [
        {
          "output_type": "stream",
          "name": "stdout",
          "text": [
            "This is my Parent Class\n",
            "This is my child class\n"
          ]
        }
      ]
    },
    {
      "cell_type": "markdown",
      "source": [
        "**Multiple Inheritance:** When a class can be derived from more than one base class this type of inheritance is called multiple inheritances. In multiple inheritances, all the features of the base classes are inherited into the derived class."
      ],
      "metadata": {
        "id": "dxiFLErc9EeU"
      }
    },
    {
      "cell_type": "code",
      "source": [
        "class Father:\n",
        "  def __init__(self,fname):\n",
        "    self.fname = fname\n",
        "class Mother:\n",
        "  def __init__(self,mname):\n",
        "    self.mname = mname\n",
        "class Child(Father,Mother):\n",
        "  def __init__(self,cname,fname,mname):\n",
        "    Father.__init__(self,fname)\n",
        "    Mother.__init__(self,mname)\n",
        "    self.cname = cname\n",
        "  #Creating Display method and accessing Father and Mother class\n",
        "  def display(self):\n",
        "      print(\"My Father's name is: \",self.fname)\n",
        "      print(\"My Mother's name is: \",self.mname)\n",
        "      print(\"My name is: \",self.cname)\n",
        "\n",
        "ob1 = Child(\"Kiran Tripathi\",\"Rajesh Tripathi\",\"Mala Tripathi\")\n",
        "ob1.display()"
      ],
      "metadata": {
        "colab": {
          "base_uri": "https://localhost:8080/"
        },
        "id": "7rOcd4f18wGG",
        "outputId": "3d97da07-d762-430e-a46f-a66379d3ed62"
      },
      "execution_count": 10,
      "outputs": [
        {
          "output_type": "stream",
          "name": "stdout",
          "text": [
            "My Father's name is:  Rajesh Tripathi\n",
            "My Mother's name is:  Mala Tripathi\n",
            "My name is:  Kiran Tripathi\n"
          ]
        }
      ]
    },
    {
      "cell_type": "markdown",
      "source": [
        "**Multilevel Inheritance :**\n",
        "In multilevel inheritance, features of the base class and the derived class are further inherited into the new derived class. This is similar to a relationship representing a child and a grandfather."
      ],
      "metadata": {
        "id": "d10Y2Q6mAqHj"
      }
    },
    {
      "cell_type": "code",
      "source": [
        "#Creating Grandfather Class\n",
        "class Grandfather:\n",
        "  def __init__(self,gname):\n",
        "    self.gname = gname\n",
        "# Creating Father class inheriting Grandfather\n",
        "class Father(Grandfather):\n",
        "  def __init__(self,fname,gname):\n",
        "    Grandfather.__init__(self,gname)\n",
        "    self.fname = fname\n",
        "# Creating Child class inheriting Father which already inherited Grandfather\n",
        "class Child(Father):\n",
        "  def __init__(self,cname,fname,gname):\n",
        "    Father.__init__(self,fname,gname)\n",
        "    self.cname = cname\n",
        "  #Creating Display method and accessing Grandfather & Father\n",
        "  def display(self):\n",
        "    print(\"My Grandfather's name is: \",self.gname)\n",
        "    print(\"My Father's name is: \",self.fname)\n",
        "    print(\"My name is:\",self.cname)\n",
        "\n",
        "ob1 = Child(\"Kiran Tripathi\",\"Rajesh Tripathi\",\"Trifla Prashad Tripathi\")\n",
        "ob1.display()"
      ],
      "metadata": {
        "colab": {
          "base_uri": "https://localhost:8080/"
        },
        "id": "bh8hZYLv_TCZ",
        "outputId": "a9265a7c-2dfb-4fc6-c32b-e4ab35fc40e1"
      },
      "execution_count": 12,
      "outputs": [
        {
          "output_type": "stream",
          "name": "stdout",
          "text": [
            "My Grandfather's name is:  Trifla Prashad Tripathi\n",
            "My Father's name is:  Rajesh Tripathi\n",
            "My name is: Kiran Tripathi\n"
          ]
        }
      ]
    },
    {
      "cell_type": "markdown",
      "source": [
        "**Hierarchical Inheritance:**\n",
        "When more than one derived class are created from a single base this type of inheritance is called hierarchical inheritance. In this program, we have a parent (base) class and two child (derived) classes."
      ],
      "metadata": {
        "id": "3cGkYxVnE4iq"
      }
    },
    {
      "cell_type": "code",
      "source": [
        "#Creating Parent class\n",
        "class Father:\n",
        "  def __init__(self,fname):\n",
        "    self.fname = fname\n",
        "#Creating Child1 class\n",
        "class Child1(Father):\n",
        "  def __init__(self,c1name,fname):\n",
        "    Father.__init__(self,fname)\n",
        "    self.c1name = c1name\n",
        "  def display_child1(self):\n",
        "    print(\"My name is:\",self.c1name,\"and my Father's name is:\",self.fname)\n",
        "#Creating Child2 class\n",
        "class Child2(Father):\n",
        "  def __init__(self,c2name,fname):\n",
        "    Father.__init__(self,fname)\n",
        "    self.c2name = c2name\n",
        "  def display_child2(self):\n",
        "    print(\"My name is:\",self.c2name,\"and my Father's name is:\",self.fname)\n",
        "\n",
        "child_1 = Child1(\"Kiran Tripathi\",\"Rajesh Tripathi\")\n",
        "child_2 = Child2(\"Kajal Tripathi\",\"Rajesh Tripathi\")\n",
        "child_1.display_child1()\n",
        "child_2.display_child2()\n"
      ],
      "metadata": {
        "colab": {
          "base_uri": "https://localhost:8080/"
        },
        "id": "kMxR4aOaDvMc",
        "outputId": "5d2b1943-6300-4657-b244-4600adb7c358"
      },
      "execution_count": 14,
      "outputs": [
        {
          "output_type": "stream",
          "name": "stdout",
          "text": [
            "My name is: Kiran Tripathi and my Father's name is: Rajesh Tripathi\n",
            "My name is: Kajal Tripathi and my Father's name is: Rajesh Tripathi\n"
          ]
        }
      ]
    },
    {
      "cell_type": "code",
      "source": [],
      "metadata": {
        "id": "lTq4LNphHNRX"
      },
      "execution_count": null,
      "outputs": []
    }
  ]
}